{
  "nbformat": 4,
  "nbformat_minor": 0,
  "metadata": {
    "colab": {
      "name": "FinalTask_ML.ipynb",
      "provenance": [],
      "collapsed_sections": []
    },
    "kernelspec": {
      "name": "python3",
      "display_name": "Python 3"
    },
    "language_info": {
      "name": "python"
    }
  },
  "cells": [
    {
      "cell_type": "markdown",
      "metadata": {
        "id": "dDlx9UBdwKet"
      },
      "source": [
        "# **DRIVE ACCESS AUTHENTICATION**"
      ]
    },
    {
      "cell_type": "code",
      "metadata": {
        "colab": {
          "base_uri": "https://localhost:8080/"
        },
        "id": "iODjM74JwQP1",
        "outputId": "34ebd56d-3d88-4215-cd9c-1897f716b7db"
      },
      "source": [
        "from google.colab import drive\n",
        "drive.mount('/content/drive')"
      ],
      "execution_count": 2,
      "outputs": [
        {
          "output_type": "stream",
          "name": "stdout",
          "text": [
            "Mounted at /content/drive\n"
          ]
        }
      ]
    },
    {
      "cell_type": "markdown",
      "metadata": {
        "id": "DQLiZ3vDyCY0"
      },
      "source": [
        "# **IMPORTING PACKAGES**"
      ]
    },
    {
      "cell_type": "code",
      "metadata": {
        "id": "ZlPdH75XyF08"
      },
      "source": [
        "import numpy as np\n",
        "import pandas as pd"
      ],
      "execution_count": 3,
      "outputs": []
    },
    {
      "cell_type": "markdown",
      "metadata": {
        "id": "npDSU4MCzjYP"
      },
      "source": [
        "# **READING THE DATASET**"
      ]
    },
    {
      "cell_type": "code",
      "metadata": {
        "id": "iG2kMBXHyWMX"
      },
      "source": [
        "df = pd.read_csv('/content/drive/MyDrive/TRF/HRDataset_v14.csv')"
      ],
      "execution_count": 4,
      "outputs": []
    },
    {
      "cell_type": "markdown",
      "metadata": {
        "id": "qL3jawUizwby"
      },
      "source": [
        "# **DATA PREPROCESSING**"
      ]
    },
    {
      "cell_type": "code",
      "metadata": {
        "colab": {
          "base_uri": "https://localhost:8080/",
          "height": 722
        },
        "id": "TCsPOGj5z0Kk",
        "outputId": "6338d10e-2451-45b2-fd63-42f3d69a802a"
      },
      "source": [
        "df"
      ],
      "execution_count": 5,
      "outputs": [
        {
          "output_type": "execute_result",
          "data": {
            "text/html": [
              "<div>\n",
              "<style scoped>\n",
              "    .dataframe tbody tr th:only-of-type {\n",
              "        vertical-align: middle;\n",
              "    }\n",
              "\n",
              "    .dataframe tbody tr th {\n",
              "        vertical-align: top;\n",
              "    }\n",
              "\n",
              "    .dataframe thead th {\n",
              "        text-align: right;\n",
              "    }\n",
              "</style>\n",
              "<table border=\"1\" class=\"dataframe\">\n",
              "  <thead>\n",
              "    <tr style=\"text-align: right;\">\n",
              "      <th></th>\n",
              "      <th>Employee_Name</th>\n",
              "      <th>EmpID</th>\n",
              "      <th>MarriedID</th>\n",
              "      <th>MaritalStatusID</th>\n",
              "      <th>GenderID</th>\n",
              "      <th>EmpStatusID</th>\n",
              "      <th>DeptID</th>\n",
              "      <th>PerfScoreID</th>\n",
              "      <th>FromDiversityJobFairID</th>\n",
              "      <th>Salary</th>\n",
              "      <th>Termd</th>\n",
              "      <th>PositionID</th>\n",
              "      <th>Position</th>\n",
              "      <th>State</th>\n",
              "      <th>Zip</th>\n",
              "      <th>DOB</th>\n",
              "      <th>Sex</th>\n",
              "      <th>MaritalDesc</th>\n",
              "      <th>CitizenDesc</th>\n",
              "      <th>HispanicLatino</th>\n",
              "      <th>RaceDesc</th>\n",
              "      <th>DateofHire</th>\n",
              "      <th>DateofTermination</th>\n",
              "      <th>TermReason</th>\n",
              "      <th>EmploymentStatus</th>\n",
              "      <th>Department</th>\n",
              "      <th>ManagerName</th>\n",
              "      <th>ManagerID</th>\n",
              "      <th>RecruitmentSource</th>\n",
              "      <th>PerformanceScore</th>\n",
              "      <th>EngagementSurvey</th>\n",
              "      <th>EmpSatisfaction</th>\n",
              "      <th>SpecialProjectsCount</th>\n",
              "      <th>LastPerformanceReview_Date</th>\n",
              "      <th>DaysLateLast30</th>\n",
              "      <th>Absences</th>\n",
              "    </tr>\n",
              "  </thead>\n",
              "  <tbody>\n",
              "    <tr>\n",
              "      <th>0</th>\n",
              "      <td>Adinolfi, Wilson  K</td>\n",
              "      <td>10026</td>\n",
              "      <td>0</td>\n",
              "      <td>0</td>\n",
              "      <td>1</td>\n",
              "      <td>1</td>\n",
              "      <td>5</td>\n",
              "      <td>4</td>\n",
              "      <td>0</td>\n",
              "      <td>62506</td>\n",
              "      <td>0</td>\n",
              "      <td>19</td>\n",
              "      <td>Production Technician I</td>\n",
              "      <td>MA</td>\n",
              "      <td>1960</td>\n",
              "      <td>07/10/83</td>\n",
              "      <td>M</td>\n",
              "      <td>Single</td>\n",
              "      <td>US Citizen</td>\n",
              "      <td>No</td>\n",
              "      <td>White</td>\n",
              "      <td>7/5/2011</td>\n",
              "      <td>NaN</td>\n",
              "      <td>N/A-StillEmployed</td>\n",
              "      <td>Active</td>\n",
              "      <td>Production</td>\n",
              "      <td>Michael Albert</td>\n",
              "      <td>22.0</td>\n",
              "      <td>LinkedIn</td>\n",
              "      <td>Exceeds</td>\n",
              "      <td>4.60</td>\n",
              "      <td>5</td>\n",
              "      <td>0</td>\n",
              "      <td>1/17/2019</td>\n",
              "      <td>0</td>\n",
              "      <td>1</td>\n",
              "    </tr>\n",
              "    <tr>\n",
              "      <th>1</th>\n",
              "      <td>Ait Sidi, Karthikeyan</td>\n",
              "      <td>10084</td>\n",
              "      <td>1</td>\n",
              "      <td>1</td>\n",
              "      <td>1</td>\n",
              "      <td>5</td>\n",
              "      <td>3</td>\n",
              "      <td>3</td>\n",
              "      <td>0</td>\n",
              "      <td>104437</td>\n",
              "      <td>1</td>\n",
              "      <td>27</td>\n",
              "      <td>Sr. DBA</td>\n",
              "      <td>MA</td>\n",
              "      <td>2148</td>\n",
              "      <td>05/05/75</td>\n",
              "      <td>M</td>\n",
              "      <td>Married</td>\n",
              "      <td>US Citizen</td>\n",
              "      <td>No</td>\n",
              "      <td>White</td>\n",
              "      <td>3/30/2015</td>\n",
              "      <td>6/16/2016</td>\n",
              "      <td>career change</td>\n",
              "      <td>Voluntarily Terminated</td>\n",
              "      <td>IT/IS</td>\n",
              "      <td>Simon Roup</td>\n",
              "      <td>4.0</td>\n",
              "      <td>Indeed</td>\n",
              "      <td>Fully Meets</td>\n",
              "      <td>4.96</td>\n",
              "      <td>3</td>\n",
              "      <td>6</td>\n",
              "      <td>2/24/2016</td>\n",
              "      <td>0</td>\n",
              "      <td>17</td>\n",
              "    </tr>\n",
              "    <tr>\n",
              "      <th>2</th>\n",
              "      <td>Akinkuolie, Sarah</td>\n",
              "      <td>10196</td>\n",
              "      <td>1</td>\n",
              "      <td>1</td>\n",
              "      <td>0</td>\n",
              "      <td>5</td>\n",
              "      <td>5</td>\n",
              "      <td>3</td>\n",
              "      <td>0</td>\n",
              "      <td>64955</td>\n",
              "      <td>1</td>\n",
              "      <td>20</td>\n",
              "      <td>Production Technician II</td>\n",
              "      <td>MA</td>\n",
              "      <td>1810</td>\n",
              "      <td>09/19/88</td>\n",
              "      <td>F</td>\n",
              "      <td>Married</td>\n",
              "      <td>US Citizen</td>\n",
              "      <td>No</td>\n",
              "      <td>White</td>\n",
              "      <td>7/5/2011</td>\n",
              "      <td>9/24/2012</td>\n",
              "      <td>hours</td>\n",
              "      <td>Voluntarily Terminated</td>\n",
              "      <td>Production</td>\n",
              "      <td>Kissy Sullivan</td>\n",
              "      <td>20.0</td>\n",
              "      <td>LinkedIn</td>\n",
              "      <td>Fully Meets</td>\n",
              "      <td>3.02</td>\n",
              "      <td>3</td>\n",
              "      <td>0</td>\n",
              "      <td>5/15/2012</td>\n",
              "      <td>0</td>\n",
              "      <td>3</td>\n",
              "    </tr>\n",
              "    <tr>\n",
              "      <th>3</th>\n",
              "      <td>Alagbe,Trina</td>\n",
              "      <td>10088</td>\n",
              "      <td>1</td>\n",
              "      <td>1</td>\n",
              "      <td>0</td>\n",
              "      <td>1</td>\n",
              "      <td>5</td>\n",
              "      <td>3</td>\n",
              "      <td>0</td>\n",
              "      <td>64991</td>\n",
              "      <td>0</td>\n",
              "      <td>19</td>\n",
              "      <td>Production Technician I</td>\n",
              "      <td>MA</td>\n",
              "      <td>1886</td>\n",
              "      <td>09/27/88</td>\n",
              "      <td>F</td>\n",
              "      <td>Married</td>\n",
              "      <td>US Citizen</td>\n",
              "      <td>No</td>\n",
              "      <td>White</td>\n",
              "      <td>1/7/2008</td>\n",
              "      <td>NaN</td>\n",
              "      <td>N/A-StillEmployed</td>\n",
              "      <td>Active</td>\n",
              "      <td>Production</td>\n",
              "      <td>Elijiah Gray</td>\n",
              "      <td>16.0</td>\n",
              "      <td>Indeed</td>\n",
              "      <td>Fully Meets</td>\n",
              "      <td>4.84</td>\n",
              "      <td>5</td>\n",
              "      <td>0</td>\n",
              "      <td>1/3/2019</td>\n",
              "      <td>0</td>\n",
              "      <td>15</td>\n",
              "    </tr>\n",
              "    <tr>\n",
              "      <th>4</th>\n",
              "      <td>Anderson, Carol</td>\n",
              "      <td>10069</td>\n",
              "      <td>0</td>\n",
              "      <td>2</td>\n",
              "      <td>0</td>\n",
              "      <td>5</td>\n",
              "      <td>5</td>\n",
              "      <td>3</td>\n",
              "      <td>0</td>\n",
              "      <td>50825</td>\n",
              "      <td>1</td>\n",
              "      <td>19</td>\n",
              "      <td>Production Technician I</td>\n",
              "      <td>MA</td>\n",
              "      <td>2169</td>\n",
              "      <td>09/08/89</td>\n",
              "      <td>F</td>\n",
              "      <td>Divorced</td>\n",
              "      <td>US Citizen</td>\n",
              "      <td>No</td>\n",
              "      <td>White</td>\n",
              "      <td>7/11/2011</td>\n",
              "      <td>9/6/2016</td>\n",
              "      <td>return to school</td>\n",
              "      <td>Voluntarily Terminated</td>\n",
              "      <td>Production</td>\n",
              "      <td>Webster Butler</td>\n",
              "      <td>39.0</td>\n",
              "      <td>Google Search</td>\n",
              "      <td>Fully Meets</td>\n",
              "      <td>5.00</td>\n",
              "      <td>4</td>\n",
              "      <td>0</td>\n",
              "      <td>2/1/2016</td>\n",
              "      <td>0</td>\n",
              "      <td>2</td>\n",
              "    </tr>\n",
              "    <tr>\n",
              "      <th>...</th>\n",
              "      <td>...</td>\n",
              "      <td>...</td>\n",
              "      <td>...</td>\n",
              "      <td>...</td>\n",
              "      <td>...</td>\n",
              "      <td>...</td>\n",
              "      <td>...</td>\n",
              "      <td>...</td>\n",
              "      <td>...</td>\n",
              "      <td>...</td>\n",
              "      <td>...</td>\n",
              "      <td>...</td>\n",
              "      <td>...</td>\n",
              "      <td>...</td>\n",
              "      <td>...</td>\n",
              "      <td>...</td>\n",
              "      <td>...</td>\n",
              "      <td>...</td>\n",
              "      <td>...</td>\n",
              "      <td>...</td>\n",
              "      <td>...</td>\n",
              "      <td>...</td>\n",
              "      <td>...</td>\n",
              "      <td>...</td>\n",
              "      <td>...</td>\n",
              "      <td>...</td>\n",
              "      <td>...</td>\n",
              "      <td>...</td>\n",
              "      <td>...</td>\n",
              "      <td>...</td>\n",
              "      <td>...</td>\n",
              "      <td>...</td>\n",
              "      <td>...</td>\n",
              "      <td>...</td>\n",
              "      <td>...</td>\n",
              "      <td>...</td>\n",
              "    </tr>\n",
              "    <tr>\n",
              "      <th>306</th>\n",
              "      <td>Woodson, Jason</td>\n",
              "      <td>10135</td>\n",
              "      <td>0</td>\n",
              "      <td>0</td>\n",
              "      <td>1</td>\n",
              "      <td>1</td>\n",
              "      <td>5</td>\n",
              "      <td>3</td>\n",
              "      <td>0</td>\n",
              "      <td>65893</td>\n",
              "      <td>0</td>\n",
              "      <td>20</td>\n",
              "      <td>Production Technician II</td>\n",
              "      <td>MA</td>\n",
              "      <td>1810</td>\n",
              "      <td>05/11/85</td>\n",
              "      <td>M</td>\n",
              "      <td>Single</td>\n",
              "      <td>US Citizen</td>\n",
              "      <td>No</td>\n",
              "      <td>White</td>\n",
              "      <td>7/7/2014</td>\n",
              "      <td>NaN</td>\n",
              "      <td>N/A-StillEmployed</td>\n",
              "      <td>Active</td>\n",
              "      <td>Production</td>\n",
              "      <td>Kissy Sullivan</td>\n",
              "      <td>20.0</td>\n",
              "      <td>LinkedIn</td>\n",
              "      <td>Fully Meets</td>\n",
              "      <td>4.07</td>\n",
              "      <td>4</td>\n",
              "      <td>0</td>\n",
              "      <td>2/28/2019</td>\n",
              "      <td>0</td>\n",
              "      <td>13</td>\n",
              "    </tr>\n",
              "    <tr>\n",
              "      <th>307</th>\n",
              "      <td>Ybarra, Catherine</td>\n",
              "      <td>10301</td>\n",
              "      <td>0</td>\n",
              "      <td>0</td>\n",
              "      <td>0</td>\n",
              "      <td>5</td>\n",
              "      <td>5</td>\n",
              "      <td>1</td>\n",
              "      <td>0</td>\n",
              "      <td>48513</td>\n",
              "      <td>1</td>\n",
              "      <td>19</td>\n",
              "      <td>Production Technician I</td>\n",
              "      <td>MA</td>\n",
              "      <td>2458</td>\n",
              "      <td>05/04/82</td>\n",
              "      <td>F</td>\n",
              "      <td>Single</td>\n",
              "      <td>US Citizen</td>\n",
              "      <td>No</td>\n",
              "      <td>Asian</td>\n",
              "      <td>9/2/2008</td>\n",
              "      <td>9/29/2015</td>\n",
              "      <td>Another position</td>\n",
              "      <td>Voluntarily Terminated</td>\n",
              "      <td>Production</td>\n",
              "      <td>Brannon Miller</td>\n",
              "      <td>12.0</td>\n",
              "      <td>Google Search</td>\n",
              "      <td>PIP</td>\n",
              "      <td>3.20</td>\n",
              "      <td>2</td>\n",
              "      <td>0</td>\n",
              "      <td>9/2/2015</td>\n",
              "      <td>5</td>\n",
              "      <td>4</td>\n",
              "    </tr>\n",
              "    <tr>\n",
              "      <th>308</th>\n",
              "      <td>Zamora, Jennifer</td>\n",
              "      <td>10010</td>\n",
              "      <td>0</td>\n",
              "      <td>0</td>\n",
              "      <td>0</td>\n",
              "      <td>1</td>\n",
              "      <td>3</td>\n",
              "      <td>4</td>\n",
              "      <td>0</td>\n",
              "      <td>220450</td>\n",
              "      <td>0</td>\n",
              "      <td>6</td>\n",
              "      <td>CIO</td>\n",
              "      <td>MA</td>\n",
              "      <td>2067</td>\n",
              "      <td>08/30/79</td>\n",
              "      <td>F</td>\n",
              "      <td>Single</td>\n",
              "      <td>US Citizen</td>\n",
              "      <td>No</td>\n",
              "      <td>White</td>\n",
              "      <td>4/10/2010</td>\n",
              "      <td>NaN</td>\n",
              "      <td>N/A-StillEmployed</td>\n",
              "      <td>Active</td>\n",
              "      <td>IT/IS</td>\n",
              "      <td>Janet King</td>\n",
              "      <td>2.0</td>\n",
              "      <td>Employee Referral</td>\n",
              "      <td>Exceeds</td>\n",
              "      <td>4.60</td>\n",
              "      <td>5</td>\n",
              "      <td>6</td>\n",
              "      <td>2/21/2019</td>\n",
              "      <td>0</td>\n",
              "      <td>16</td>\n",
              "    </tr>\n",
              "    <tr>\n",
              "      <th>309</th>\n",
              "      <td>Zhou, Julia</td>\n",
              "      <td>10043</td>\n",
              "      <td>0</td>\n",
              "      <td>0</td>\n",
              "      <td>0</td>\n",
              "      <td>1</td>\n",
              "      <td>3</td>\n",
              "      <td>3</td>\n",
              "      <td>0</td>\n",
              "      <td>89292</td>\n",
              "      <td>0</td>\n",
              "      <td>9</td>\n",
              "      <td>Data Analyst</td>\n",
              "      <td>MA</td>\n",
              "      <td>2148</td>\n",
              "      <td>02/24/79</td>\n",
              "      <td>F</td>\n",
              "      <td>Single</td>\n",
              "      <td>US Citizen</td>\n",
              "      <td>No</td>\n",
              "      <td>White</td>\n",
              "      <td>3/30/2015</td>\n",
              "      <td>NaN</td>\n",
              "      <td>N/A-StillEmployed</td>\n",
              "      <td>Active</td>\n",
              "      <td>IT/IS</td>\n",
              "      <td>Simon Roup</td>\n",
              "      <td>4.0</td>\n",
              "      <td>Employee Referral</td>\n",
              "      <td>Fully Meets</td>\n",
              "      <td>5.00</td>\n",
              "      <td>3</td>\n",
              "      <td>5</td>\n",
              "      <td>2/1/2019</td>\n",
              "      <td>0</td>\n",
              "      <td>11</td>\n",
              "    </tr>\n",
              "    <tr>\n",
              "      <th>310</th>\n",
              "      <td>Zima, Colleen</td>\n",
              "      <td>10271</td>\n",
              "      <td>0</td>\n",
              "      <td>4</td>\n",
              "      <td>0</td>\n",
              "      <td>1</td>\n",
              "      <td>5</td>\n",
              "      <td>3</td>\n",
              "      <td>0</td>\n",
              "      <td>45046</td>\n",
              "      <td>0</td>\n",
              "      <td>19</td>\n",
              "      <td>Production Technician I</td>\n",
              "      <td>MA</td>\n",
              "      <td>1730</td>\n",
              "      <td>08/17/78</td>\n",
              "      <td>F</td>\n",
              "      <td>Widowed</td>\n",
              "      <td>US Citizen</td>\n",
              "      <td>No</td>\n",
              "      <td>Asian</td>\n",
              "      <td>9/29/2014</td>\n",
              "      <td>NaN</td>\n",
              "      <td>N/A-StillEmployed</td>\n",
              "      <td>Active</td>\n",
              "      <td>Production</td>\n",
              "      <td>David Stanley</td>\n",
              "      <td>14.0</td>\n",
              "      <td>LinkedIn</td>\n",
              "      <td>Fully Meets</td>\n",
              "      <td>4.50</td>\n",
              "      <td>5</td>\n",
              "      <td>0</td>\n",
              "      <td>1/30/2019</td>\n",
              "      <td>0</td>\n",
              "      <td>2</td>\n",
              "    </tr>\n",
              "  </tbody>\n",
              "</table>\n",
              "<p>311 rows × 36 columns</p>\n",
              "</div>"
            ],
            "text/plain": [
              "                Employee_Name  EmpID  ...  DaysLateLast30  Absences\n",
              "0         Adinolfi, Wilson  K  10026  ...               0         1\n",
              "1    Ait Sidi, Karthikeyan     10084  ...               0        17\n",
              "2           Akinkuolie, Sarah  10196  ...               0         3\n",
              "3                Alagbe,Trina  10088  ...               0        15\n",
              "4            Anderson, Carol   10069  ...               0         2\n",
              "..                        ...    ...  ...             ...       ...\n",
              "306            Woodson, Jason  10135  ...               0        13\n",
              "307        Ybarra, Catherine   10301  ...               5         4\n",
              "308          Zamora, Jennifer  10010  ...               0        16\n",
              "309               Zhou, Julia  10043  ...               0        11\n",
              "310             Zima, Colleen  10271  ...               0         2\n",
              "\n",
              "[311 rows x 36 columns]"
            ]
          },
          "metadata": {},
          "execution_count": 5
        }
      ]
    },
    {
      "cell_type": "markdown",
      "metadata": {
        "id": "VjXUX1Zk2a4-"
      },
      "source": [
        "**DATA CLEANING AND REMOVING THE NULL VALUES**"
      ]
    },
    {
      "cell_type": "code",
      "metadata": {
        "colab": {
          "base_uri": "https://localhost:8080/"
        },
        "id": "_9cnhaHUz2ux",
        "outputId": "077bd895-fda8-498c-d438-ecf27e0fe719"
      },
      "source": [
        "df.isnull().sum()"
      ],
      "execution_count": 6,
      "outputs": [
        {
          "output_type": "execute_result",
          "data": {
            "text/plain": [
              "Employee_Name                   0\n",
              "EmpID                           0\n",
              "MarriedID                       0\n",
              "MaritalStatusID                 0\n",
              "GenderID                        0\n",
              "EmpStatusID                     0\n",
              "DeptID                          0\n",
              "PerfScoreID                     0\n",
              "FromDiversityJobFairID          0\n",
              "Salary                          0\n",
              "Termd                           0\n",
              "PositionID                      0\n",
              "Position                        0\n",
              "State                           0\n",
              "Zip                             0\n",
              "DOB                             0\n",
              "Sex                             0\n",
              "MaritalDesc                     0\n",
              "CitizenDesc                     0\n",
              "HispanicLatino                  0\n",
              "RaceDesc                        0\n",
              "DateofHire                      0\n",
              "DateofTermination             207\n",
              "TermReason                      0\n",
              "EmploymentStatus                0\n",
              "Department                      0\n",
              "ManagerName                     0\n",
              "ManagerID                       8\n",
              "RecruitmentSource               0\n",
              "PerformanceScore                0\n",
              "EngagementSurvey                0\n",
              "EmpSatisfaction                 0\n",
              "SpecialProjectsCount            0\n",
              "LastPerformanceReview_Date      0\n",
              "DaysLateLast30                  0\n",
              "Absences                        0\n",
              "dtype: int64"
            ]
          },
          "metadata": {},
          "execution_count": 6
        }
      ]
    },
    {
      "cell_type": "code",
      "metadata": {
        "colab": {
          "base_uri": "https://localhost:8080/"
        },
        "id": "iZkTPZMt1N60",
        "outputId": "5ac5ee87-16dc-420e-9801-4963fd149113"
      },
      "source": [
        "df.columns"
      ],
      "execution_count": 7,
      "outputs": [
        {
          "output_type": "execute_result",
          "data": {
            "text/plain": [
              "Index(['Employee_Name', 'EmpID', 'MarriedID', 'MaritalStatusID', 'GenderID',\n",
              "       'EmpStatusID', 'DeptID', 'PerfScoreID', 'FromDiversityJobFairID',\n",
              "       'Salary', 'Termd', 'PositionID', 'Position', 'State', 'Zip', 'DOB',\n",
              "       'Sex', 'MaritalDesc', 'CitizenDesc', 'HispanicLatino', 'RaceDesc',\n",
              "       'DateofHire', 'DateofTermination', 'TermReason', 'EmploymentStatus',\n",
              "       'Department', 'ManagerName', 'ManagerID', 'RecruitmentSource',\n",
              "       'PerformanceScore', 'EngagementSurvey', 'EmpSatisfaction',\n",
              "       'SpecialProjectsCount', 'LastPerformanceReview_Date', 'DaysLateLast30',\n",
              "       'Absences'],\n",
              "      dtype='object')"
            ]
          },
          "metadata": {},
          "execution_count": 7
        }
      ]
    },
    {
      "cell_type": "code",
      "metadata": {
        "colab": {
          "base_uri": "https://localhost:8080/"
        },
        "id": "BKw0ywOk1Q35",
        "outputId": "e7d1e913-a6f2-4e04-8a84-a7ac4872c3dc"
      },
      "source": [
        "len(df.index)"
      ],
      "execution_count": 8,
      "outputs": [
        {
          "output_type": "execute_result",
          "data": {
            "text/plain": [
              "311"
            ]
          },
          "metadata": {},
          "execution_count": 8
        }
      ]
    },
    {
      "cell_type": "code",
      "metadata": {
        "colab": {
          "base_uri": "https://localhost:8080/"
        },
        "id": "CJoKhMfk18Ib",
        "outputId": "020e7acb-741d-494f-a4e6-59ccf5c3d258"
      },
      "source": [
        "df['DateofTermination'].count()"
      ],
      "execution_count": 9,
      "outputs": [
        {
          "output_type": "execute_result",
          "data": {
            "text/plain": [
              "104"
            ]
          },
          "metadata": {},
          "execution_count": 9
        }
      ]
    },
    {
      "cell_type": "code",
      "metadata": {
        "colab": {
          "base_uri": "https://localhost:8080/"
        },
        "id": "T-hU1ei62FpL",
        "outputId": "b69bb7bb-c3a0-4e34-be0a-7eae07044d00"
      },
      "source": [
        "df['ManagerID'].count()"
      ],
      "execution_count": 10,
      "outputs": [
        {
          "output_type": "execute_result",
          "data": {
            "text/plain": [
              "303"
            ]
          },
          "metadata": {},
          "execution_count": 10
        }
      ]
    },
    {
      "cell_type": "code",
      "metadata": {
        "id": "cn0r-9qr2fUX"
      },
      "source": [
        "df.drop(labels = {'Employee_Name','EmpID','Position','State','DOB','DateofHire','Department','ManagerName','ManagerID','RecruitmentSource','LastPerformanceReview_Date'} , axis = 1 , inplace = True)"
      ],
      "execution_count": 11,
      "outputs": []
    },
    {
      "cell_type": "code",
      "metadata": {
        "id": "bexGl-uENiq3"
      },
      "source": [
        "df.drop(labels = {'DateofTermination'} , axis = 1 , inplace = True)"
      ],
      "execution_count": 12,
      "outputs": []
    },
    {
      "cell_type": "code",
      "metadata": {
        "colab": {
          "base_uri": "https://localhost:8080/",
          "height": 605
        },
        "id": "qI0xqRpf2rPP",
        "outputId": "0e095312-347a-415c-be8d-1cf202856c16"
      },
      "source": [
        "df"
      ],
      "execution_count": 13,
      "outputs": [
        {
          "output_type": "execute_result",
          "data": {
            "text/html": [
              "<div>\n",
              "<style scoped>\n",
              "    .dataframe tbody tr th:only-of-type {\n",
              "        vertical-align: middle;\n",
              "    }\n",
              "\n",
              "    .dataframe tbody tr th {\n",
              "        vertical-align: top;\n",
              "    }\n",
              "\n",
              "    .dataframe thead th {\n",
              "        text-align: right;\n",
              "    }\n",
              "</style>\n",
              "<table border=\"1\" class=\"dataframe\">\n",
              "  <thead>\n",
              "    <tr style=\"text-align: right;\">\n",
              "      <th></th>\n",
              "      <th>MarriedID</th>\n",
              "      <th>MaritalStatusID</th>\n",
              "      <th>GenderID</th>\n",
              "      <th>EmpStatusID</th>\n",
              "      <th>DeptID</th>\n",
              "      <th>PerfScoreID</th>\n",
              "      <th>FromDiversityJobFairID</th>\n",
              "      <th>Salary</th>\n",
              "      <th>Termd</th>\n",
              "      <th>PositionID</th>\n",
              "      <th>Zip</th>\n",
              "      <th>Sex</th>\n",
              "      <th>MaritalDesc</th>\n",
              "      <th>CitizenDesc</th>\n",
              "      <th>HispanicLatino</th>\n",
              "      <th>RaceDesc</th>\n",
              "      <th>TermReason</th>\n",
              "      <th>EmploymentStatus</th>\n",
              "      <th>PerformanceScore</th>\n",
              "      <th>EngagementSurvey</th>\n",
              "      <th>EmpSatisfaction</th>\n",
              "      <th>SpecialProjectsCount</th>\n",
              "      <th>DaysLateLast30</th>\n",
              "      <th>Absences</th>\n",
              "    </tr>\n",
              "  </thead>\n",
              "  <tbody>\n",
              "    <tr>\n",
              "      <th>0</th>\n",
              "      <td>0</td>\n",
              "      <td>0</td>\n",
              "      <td>1</td>\n",
              "      <td>1</td>\n",
              "      <td>5</td>\n",
              "      <td>4</td>\n",
              "      <td>0</td>\n",
              "      <td>62506</td>\n",
              "      <td>0</td>\n",
              "      <td>19</td>\n",
              "      <td>1960</td>\n",
              "      <td>M</td>\n",
              "      <td>Single</td>\n",
              "      <td>US Citizen</td>\n",
              "      <td>No</td>\n",
              "      <td>White</td>\n",
              "      <td>N/A-StillEmployed</td>\n",
              "      <td>Active</td>\n",
              "      <td>Exceeds</td>\n",
              "      <td>4.60</td>\n",
              "      <td>5</td>\n",
              "      <td>0</td>\n",
              "      <td>0</td>\n",
              "      <td>1</td>\n",
              "    </tr>\n",
              "    <tr>\n",
              "      <th>1</th>\n",
              "      <td>1</td>\n",
              "      <td>1</td>\n",
              "      <td>1</td>\n",
              "      <td>5</td>\n",
              "      <td>3</td>\n",
              "      <td>3</td>\n",
              "      <td>0</td>\n",
              "      <td>104437</td>\n",
              "      <td>1</td>\n",
              "      <td>27</td>\n",
              "      <td>2148</td>\n",
              "      <td>M</td>\n",
              "      <td>Married</td>\n",
              "      <td>US Citizen</td>\n",
              "      <td>No</td>\n",
              "      <td>White</td>\n",
              "      <td>career change</td>\n",
              "      <td>Voluntarily Terminated</td>\n",
              "      <td>Fully Meets</td>\n",
              "      <td>4.96</td>\n",
              "      <td>3</td>\n",
              "      <td>6</td>\n",
              "      <td>0</td>\n",
              "      <td>17</td>\n",
              "    </tr>\n",
              "    <tr>\n",
              "      <th>2</th>\n",
              "      <td>1</td>\n",
              "      <td>1</td>\n",
              "      <td>0</td>\n",
              "      <td>5</td>\n",
              "      <td>5</td>\n",
              "      <td>3</td>\n",
              "      <td>0</td>\n",
              "      <td>64955</td>\n",
              "      <td>1</td>\n",
              "      <td>20</td>\n",
              "      <td>1810</td>\n",
              "      <td>F</td>\n",
              "      <td>Married</td>\n",
              "      <td>US Citizen</td>\n",
              "      <td>No</td>\n",
              "      <td>White</td>\n",
              "      <td>hours</td>\n",
              "      <td>Voluntarily Terminated</td>\n",
              "      <td>Fully Meets</td>\n",
              "      <td>3.02</td>\n",
              "      <td>3</td>\n",
              "      <td>0</td>\n",
              "      <td>0</td>\n",
              "      <td>3</td>\n",
              "    </tr>\n",
              "    <tr>\n",
              "      <th>3</th>\n",
              "      <td>1</td>\n",
              "      <td>1</td>\n",
              "      <td>0</td>\n",
              "      <td>1</td>\n",
              "      <td>5</td>\n",
              "      <td>3</td>\n",
              "      <td>0</td>\n",
              "      <td>64991</td>\n",
              "      <td>0</td>\n",
              "      <td>19</td>\n",
              "      <td>1886</td>\n",
              "      <td>F</td>\n",
              "      <td>Married</td>\n",
              "      <td>US Citizen</td>\n",
              "      <td>No</td>\n",
              "      <td>White</td>\n",
              "      <td>N/A-StillEmployed</td>\n",
              "      <td>Active</td>\n",
              "      <td>Fully Meets</td>\n",
              "      <td>4.84</td>\n",
              "      <td>5</td>\n",
              "      <td>0</td>\n",
              "      <td>0</td>\n",
              "      <td>15</td>\n",
              "    </tr>\n",
              "    <tr>\n",
              "      <th>4</th>\n",
              "      <td>0</td>\n",
              "      <td>2</td>\n",
              "      <td>0</td>\n",
              "      <td>5</td>\n",
              "      <td>5</td>\n",
              "      <td>3</td>\n",
              "      <td>0</td>\n",
              "      <td>50825</td>\n",
              "      <td>1</td>\n",
              "      <td>19</td>\n",
              "      <td>2169</td>\n",
              "      <td>F</td>\n",
              "      <td>Divorced</td>\n",
              "      <td>US Citizen</td>\n",
              "      <td>No</td>\n",
              "      <td>White</td>\n",
              "      <td>return to school</td>\n",
              "      <td>Voluntarily Terminated</td>\n",
              "      <td>Fully Meets</td>\n",
              "      <td>5.00</td>\n",
              "      <td>4</td>\n",
              "      <td>0</td>\n",
              "      <td>0</td>\n",
              "      <td>2</td>\n",
              "    </tr>\n",
              "    <tr>\n",
              "      <th>...</th>\n",
              "      <td>...</td>\n",
              "      <td>...</td>\n",
              "      <td>...</td>\n",
              "      <td>...</td>\n",
              "      <td>...</td>\n",
              "      <td>...</td>\n",
              "      <td>...</td>\n",
              "      <td>...</td>\n",
              "      <td>...</td>\n",
              "      <td>...</td>\n",
              "      <td>...</td>\n",
              "      <td>...</td>\n",
              "      <td>...</td>\n",
              "      <td>...</td>\n",
              "      <td>...</td>\n",
              "      <td>...</td>\n",
              "      <td>...</td>\n",
              "      <td>...</td>\n",
              "      <td>...</td>\n",
              "      <td>...</td>\n",
              "      <td>...</td>\n",
              "      <td>...</td>\n",
              "      <td>...</td>\n",
              "      <td>...</td>\n",
              "    </tr>\n",
              "    <tr>\n",
              "      <th>306</th>\n",
              "      <td>0</td>\n",
              "      <td>0</td>\n",
              "      <td>1</td>\n",
              "      <td>1</td>\n",
              "      <td>5</td>\n",
              "      <td>3</td>\n",
              "      <td>0</td>\n",
              "      <td>65893</td>\n",
              "      <td>0</td>\n",
              "      <td>20</td>\n",
              "      <td>1810</td>\n",
              "      <td>M</td>\n",
              "      <td>Single</td>\n",
              "      <td>US Citizen</td>\n",
              "      <td>No</td>\n",
              "      <td>White</td>\n",
              "      <td>N/A-StillEmployed</td>\n",
              "      <td>Active</td>\n",
              "      <td>Fully Meets</td>\n",
              "      <td>4.07</td>\n",
              "      <td>4</td>\n",
              "      <td>0</td>\n",
              "      <td>0</td>\n",
              "      <td>13</td>\n",
              "    </tr>\n",
              "    <tr>\n",
              "      <th>307</th>\n",
              "      <td>0</td>\n",
              "      <td>0</td>\n",
              "      <td>0</td>\n",
              "      <td>5</td>\n",
              "      <td>5</td>\n",
              "      <td>1</td>\n",
              "      <td>0</td>\n",
              "      <td>48513</td>\n",
              "      <td>1</td>\n",
              "      <td>19</td>\n",
              "      <td>2458</td>\n",
              "      <td>F</td>\n",
              "      <td>Single</td>\n",
              "      <td>US Citizen</td>\n",
              "      <td>No</td>\n",
              "      <td>Asian</td>\n",
              "      <td>Another position</td>\n",
              "      <td>Voluntarily Terminated</td>\n",
              "      <td>PIP</td>\n",
              "      <td>3.20</td>\n",
              "      <td>2</td>\n",
              "      <td>0</td>\n",
              "      <td>5</td>\n",
              "      <td>4</td>\n",
              "    </tr>\n",
              "    <tr>\n",
              "      <th>308</th>\n",
              "      <td>0</td>\n",
              "      <td>0</td>\n",
              "      <td>0</td>\n",
              "      <td>1</td>\n",
              "      <td>3</td>\n",
              "      <td>4</td>\n",
              "      <td>0</td>\n",
              "      <td>220450</td>\n",
              "      <td>0</td>\n",
              "      <td>6</td>\n",
              "      <td>2067</td>\n",
              "      <td>F</td>\n",
              "      <td>Single</td>\n",
              "      <td>US Citizen</td>\n",
              "      <td>No</td>\n",
              "      <td>White</td>\n",
              "      <td>N/A-StillEmployed</td>\n",
              "      <td>Active</td>\n",
              "      <td>Exceeds</td>\n",
              "      <td>4.60</td>\n",
              "      <td>5</td>\n",
              "      <td>6</td>\n",
              "      <td>0</td>\n",
              "      <td>16</td>\n",
              "    </tr>\n",
              "    <tr>\n",
              "      <th>309</th>\n",
              "      <td>0</td>\n",
              "      <td>0</td>\n",
              "      <td>0</td>\n",
              "      <td>1</td>\n",
              "      <td>3</td>\n",
              "      <td>3</td>\n",
              "      <td>0</td>\n",
              "      <td>89292</td>\n",
              "      <td>0</td>\n",
              "      <td>9</td>\n",
              "      <td>2148</td>\n",
              "      <td>F</td>\n",
              "      <td>Single</td>\n",
              "      <td>US Citizen</td>\n",
              "      <td>No</td>\n",
              "      <td>White</td>\n",
              "      <td>N/A-StillEmployed</td>\n",
              "      <td>Active</td>\n",
              "      <td>Fully Meets</td>\n",
              "      <td>5.00</td>\n",
              "      <td>3</td>\n",
              "      <td>5</td>\n",
              "      <td>0</td>\n",
              "      <td>11</td>\n",
              "    </tr>\n",
              "    <tr>\n",
              "      <th>310</th>\n",
              "      <td>0</td>\n",
              "      <td>4</td>\n",
              "      <td>0</td>\n",
              "      <td>1</td>\n",
              "      <td>5</td>\n",
              "      <td>3</td>\n",
              "      <td>0</td>\n",
              "      <td>45046</td>\n",
              "      <td>0</td>\n",
              "      <td>19</td>\n",
              "      <td>1730</td>\n",
              "      <td>F</td>\n",
              "      <td>Widowed</td>\n",
              "      <td>US Citizen</td>\n",
              "      <td>No</td>\n",
              "      <td>Asian</td>\n",
              "      <td>N/A-StillEmployed</td>\n",
              "      <td>Active</td>\n",
              "      <td>Fully Meets</td>\n",
              "      <td>4.50</td>\n",
              "      <td>5</td>\n",
              "      <td>0</td>\n",
              "      <td>0</td>\n",
              "      <td>2</td>\n",
              "    </tr>\n",
              "  </tbody>\n",
              "</table>\n",
              "<p>311 rows × 24 columns</p>\n",
              "</div>"
            ],
            "text/plain": [
              "     MarriedID  MaritalStatusID  ...  DaysLateLast30  Absences\n",
              "0            0                0  ...               0         1\n",
              "1            1                1  ...               0        17\n",
              "2            1                1  ...               0         3\n",
              "3            1                1  ...               0        15\n",
              "4            0                2  ...               0         2\n",
              "..         ...              ...  ...             ...       ...\n",
              "306          0                0  ...               0        13\n",
              "307          0                0  ...               5         4\n",
              "308          0                0  ...               0        16\n",
              "309          0                0  ...               0        11\n",
              "310          0                4  ...               0         2\n",
              "\n",
              "[311 rows x 24 columns]"
            ]
          },
          "metadata": {},
          "execution_count": 13
        }
      ]
    },
    {
      "cell_type": "code",
      "metadata": {
        "colab": {
          "base_uri": "https://localhost:8080/"
        },
        "id": "pAcaZ7NE61Yn",
        "outputId": "b0596c3f-90b5-4ee0-97c3-cad1e563a690"
      },
      "source": [
        "df.isnull().sum()"
      ],
      "execution_count": 14,
      "outputs": [
        {
          "output_type": "execute_result",
          "data": {
            "text/plain": [
              "MarriedID                 0\n",
              "MaritalStatusID           0\n",
              "GenderID                  0\n",
              "EmpStatusID               0\n",
              "DeptID                    0\n",
              "PerfScoreID               0\n",
              "FromDiversityJobFairID    0\n",
              "Salary                    0\n",
              "Termd                     0\n",
              "PositionID                0\n",
              "Zip                       0\n",
              "Sex                       0\n",
              "MaritalDesc               0\n",
              "CitizenDesc               0\n",
              "HispanicLatino            0\n",
              "RaceDesc                  0\n",
              "TermReason                0\n",
              "EmploymentStatus          0\n",
              "PerformanceScore          0\n",
              "EngagementSurvey          0\n",
              "EmpSatisfaction           0\n",
              "SpecialProjectsCount      0\n",
              "DaysLateLast30            0\n",
              "Absences                  0\n",
              "dtype: int64"
            ]
          },
          "metadata": {},
          "execution_count": 14
        }
      ]
    },
    {
      "cell_type": "code",
      "metadata": {
        "colab": {
          "base_uri": "https://localhost:8080/"
        },
        "id": "FOXB6gnh_XwI",
        "outputId": "bd8ff577-7e2a-4e79-d976-bd958dad21d7"
      },
      "source": [
        "df.isnull().sum()"
      ],
      "execution_count": 15,
      "outputs": [
        {
          "output_type": "execute_result",
          "data": {
            "text/plain": [
              "MarriedID                 0\n",
              "MaritalStatusID           0\n",
              "GenderID                  0\n",
              "EmpStatusID               0\n",
              "DeptID                    0\n",
              "PerfScoreID               0\n",
              "FromDiversityJobFairID    0\n",
              "Salary                    0\n",
              "Termd                     0\n",
              "PositionID                0\n",
              "Zip                       0\n",
              "Sex                       0\n",
              "MaritalDesc               0\n",
              "CitizenDesc               0\n",
              "HispanicLatino            0\n",
              "RaceDesc                  0\n",
              "TermReason                0\n",
              "EmploymentStatus          0\n",
              "PerformanceScore          0\n",
              "EngagementSurvey          0\n",
              "EmpSatisfaction           0\n",
              "SpecialProjectsCount      0\n",
              "DaysLateLast30            0\n",
              "Absences                  0\n",
              "dtype: int64"
            ]
          },
          "metadata": {},
          "execution_count": 15
        }
      ]
    },
    {
      "cell_type": "code",
      "metadata": {
        "id": "Nx2drWekR0wi"
      },
      "source": [
        "# copy for visualization\n",
        "df_visualization = df.copy()"
      ],
      "execution_count": 16,
      "outputs": []
    },
    {
      "cell_type": "markdown",
      "metadata": {
        "id": "ASI6FC8zOa-W"
      },
      "source": [
        "**NORMAILZATION OF THE REQUIRED COLUMNS**"
      ]
    },
    {
      "cell_type": "code",
      "metadata": {
        "colab": {
          "base_uri": "https://localhost:8080/",
          "height": 605
        },
        "id": "KALdiKYGOpOv",
        "outputId": "8c4e25bb-bcf7-409d-81ba-4fc653bfb594"
      },
      "source": [
        "df"
      ],
      "execution_count": 17,
      "outputs": [
        {
          "output_type": "execute_result",
          "data": {
            "text/html": [
              "<div>\n",
              "<style scoped>\n",
              "    .dataframe tbody tr th:only-of-type {\n",
              "        vertical-align: middle;\n",
              "    }\n",
              "\n",
              "    .dataframe tbody tr th {\n",
              "        vertical-align: top;\n",
              "    }\n",
              "\n",
              "    .dataframe thead th {\n",
              "        text-align: right;\n",
              "    }\n",
              "</style>\n",
              "<table border=\"1\" class=\"dataframe\">\n",
              "  <thead>\n",
              "    <tr style=\"text-align: right;\">\n",
              "      <th></th>\n",
              "      <th>MarriedID</th>\n",
              "      <th>MaritalStatusID</th>\n",
              "      <th>GenderID</th>\n",
              "      <th>EmpStatusID</th>\n",
              "      <th>DeptID</th>\n",
              "      <th>PerfScoreID</th>\n",
              "      <th>FromDiversityJobFairID</th>\n",
              "      <th>Salary</th>\n",
              "      <th>Termd</th>\n",
              "      <th>PositionID</th>\n",
              "      <th>Zip</th>\n",
              "      <th>Sex</th>\n",
              "      <th>MaritalDesc</th>\n",
              "      <th>CitizenDesc</th>\n",
              "      <th>HispanicLatino</th>\n",
              "      <th>RaceDesc</th>\n",
              "      <th>TermReason</th>\n",
              "      <th>EmploymentStatus</th>\n",
              "      <th>PerformanceScore</th>\n",
              "      <th>EngagementSurvey</th>\n",
              "      <th>EmpSatisfaction</th>\n",
              "      <th>SpecialProjectsCount</th>\n",
              "      <th>DaysLateLast30</th>\n",
              "      <th>Absences</th>\n",
              "    </tr>\n",
              "  </thead>\n",
              "  <tbody>\n",
              "    <tr>\n",
              "      <th>0</th>\n",
              "      <td>0</td>\n",
              "      <td>0</td>\n",
              "      <td>1</td>\n",
              "      <td>1</td>\n",
              "      <td>5</td>\n",
              "      <td>4</td>\n",
              "      <td>0</td>\n",
              "      <td>62506</td>\n",
              "      <td>0</td>\n",
              "      <td>19</td>\n",
              "      <td>1960</td>\n",
              "      <td>M</td>\n",
              "      <td>Single</td>\n",
              "      <td>US Citizen</td>\n",
              "      <td>No</td>\n",
              "      <td>White</td>\n",
              "      <td>N/A-StillEmployed</td>\n",
              "      <td>Active</td>\n",
              "      <td>Exceeds</td>\n",
              "      <td>4.60</td>\n",
              "      <td>5</td>\n",
              "      <td>0</td>\n",
              "      <td>0</td>\n",
              "      <td>1</td>\n",
              "    </tr>\n",
              "    <tr>\n",
              "      <th>1</th>\n",
              "      <td>1</td>\n",
              "      <td>1</td>\n",
              "      <td>1</td>\n",
              "      <td>5</td>\n",
              "      <td>3</td>\n",
              "      <td>3</td>\n",
              "      <td>0</td>\n",
              "      <td>104437</td>\n",
              "      <td>1</td>\n",
              "      <td>27</td>\n",
              "      <td>2148</td>\n",
              "      <td>M</td>\n",
              "      <td>Married</td>\n",
              "      <td>US Citizen</td>\n",
              "      <td>No</td>\n",
              "      <td>White</td>\n",
              "      <td>career change</td>\n",
              "      <td>Voluntarily Terminated</td>\n",
              "      <td>Fully Meets</td>\n",
              "      <td>4.96</td>\n",
              "      <td>3</td>\n",
              "      <td>6</td>\n",
              "      <td>0</td>\n",
              "      <td>17</td>\n",
              "    </tr>\n",
              "    <tr>\n",
              "      <th>2</th>\n",
              "      <td>1</td>\n",
              "      <td>1</td>\n",
              "      <td>0</td>\n",
              "      <td>5</td>\n",
              "      <td>5</td>\n",
              "      <td>3</td>\n",
              "      <td>0</td>\n",
              "      <td>64955</td>\n",
              "      <td>1</td>\n",
              "      <td>20</td>\n",
              "      <td>1810</td>\n",
              "      <td>F</td>\n",
              "      <td>Married</td>\n",
              "      <td>US Citizen</td>\n",
              "      <td>No</td>\n",
              "      <td>White</td>\n",
              "      <td>hours</td>\n",
              "      <td>Voluntarily Terminated</td>\n",
              "      <td>Fully Meets</td>\n",
              "      <td>3.02</td>\n",
              "      <td>3</td>\n",
              "      <td>0</td>\n",
              "      <td>0</td>\n",
              "      <td>3</td>\n",
              "    </tr>\n",
              "    <tr>\n",
              "      <th>3</th>\n",
              "      <td>1</td>\n",
              "      <td>1</td>\n",
              "      <td>0</td>\n",
              "      <td>1</td>\n",
              "      <td>5</td>\n",
              "      <td>3</td>\n",
              "      <td>0</td>\n",
              "      <td>64991</td>\n",
              "      <td>0</td>\n",
              "      <td>19</td>\n",
              "      <td>1886</td>\n",
              "      <td>F</td>\n",
              "      <td>Married</td>\n",
              "      <td>US Citizen</td>\n",
              "      <td>No</td>\n",
              "      <td>White</td>\n",
              "      <td>N/A-StillEmployed</td>\n",
              "      <td>Active</td>\n",
              "      <td>Fully Meets</td>\n",
              "      <td>4.84</td>\n",
              "      <td>5</td>\n",
              "      <td>0</td>\n",
              "      <td>0</td>\n",
              "      <td>15</td>\n",
              "    </tr>\n",
              "    <tr>\n",
              "      <th>4</th>\n",
              "      <td>0</td>\n",
              "      <td>2</td>\n",
              "      <td>0</td>\n",
              "      <td>5</td>\n",
              "      <td>5</td>\n",
              "      <td>3</td>\n",
              "      <td>0</td>\n",
              "      <td>50825</td>\n",
              "      <td>1</td>\n",
              "      <td>19</td>\n",
              "      <td>2169</td>\n",
              "      <td>F</td>\n",
              "      <td>Divorced</td>\n",
              "      <td>US Citizen</td>\n",
              "      <td>No</td>\n",
              "      <td>White</td>\n",
              "      <td>return to school</td>\n",
              "      <td>Voluntarily Terminated</td>\n",
              "      <td>Fully Meets</td>\n",
              "      <td>5.00</td>\n",
              "      <td>4</td>\n",
              "      <td>0</td>\n",
              "      <td>0</td>\n",
              "      <td>2</td>\n",
              "    </tr>\n",
              "    <tr>\n",
              "      <th>...</th>\n",
              "      <td>...</td>\n",
              "      <td>...</td>\n",
              "      <td>...</td>\n",
              "      <td>...</td>\n",
              "      <td>...</td>\n",
              "      <td>...</td>\n",
              "      <td>...</td>\n",
              "      <td>...</td>\n",
              "      <td>...</td>\n",
              "      <td>...</td>\n",
              "      <td>...</td>\n",
              "      <td>...</td>\n",
              "      <td>...</td>\n",
              "      <td>...</td>\n",
              "      <td>...</td>\n",
              "      <td>...</td>\n",
              "      <td>...</td>\n",
              "      <td>...</td>\n",
              "      <td>...</td>\n",
              "      <td>...</td>\n",
              "      <td>...</td>\n",
              "      <td>...</td>\n",
              "      <td>...</td>\n",
              "      <td>...</td>\n",
              "    </tr>\n",
              "    <tr>\n",
              "      <th>306</th>\n",
              "      <td>0</td>\n",
              "      <td>0</td>\n",
              "      <td>1</td>\n",
              "      <td>1</td>\n",
              "      <td>5</td>\n",
              "      <td>3</td>\n",
              "      <td>0</td>\n",
              "      <td>65893</td>\n",
              "      <td>0</td>\n",
              "      <td>20</td>\n",
              "      <td>1810</td>\n",
              "      <td>M</td>\n",
              "      <td>Single</td>\n",
              "      <td>US Citizen</td>\n",
              "      <td>No</td>\n",
              "      <td>White</td>\n",
              "      <td>N/A-StillEmployed</td>\n",
              "      <td>Active</td>\n",
              "      <td>Fully Meets</td>\n",
              "      <td>4.07</td>\n",
              "      <td>4</td>\n",
              "      <td>0</td>\n",
              "      <td>0</td>\n",
              "      <td>13</td>\n",
              "    </tr>\n",
              "    <tr>\n",
              "      <th>307</th>\n",
              "      <td>0</td>\n",
              "      <td>0</td>\n",
              "      <td>0</td>\n",
              "      <td>5</td>\n",
              "      <td>5</td>\n",
              "      <td>1</td>\n",
              "      <td>0</td>\n",
              "      <td>48513</td>\n",
              "      <td>1</td>\n",
              "      <td>19</td>\n",
              "      <td>2458</td>\n",
              "      <td>F</td>\n",
              "      <td>Single</td>\n",
              "      <td>US Citizen</td>\n",
              "      <td>No</td>\n",
              "      <td>Asian</td>\n",
              "      <td>Another position</td>\n",
              "      <td>Voluntarily Terminated</td>\n",
              "      <td>PIP</td>\n",
              "      <td>3.20</td>\n",
              "      <td>2</td>\n",
              "      <td>0</td>\n",
              "      <td>5</td>\n",
              "      <td>4</td>\n",
              "    </tr>\n",
              "    <tr>\n",
              "      <th>308</th>\n",
              "      <td>0</td>\n",
              "      <td>0</td>\n",
              "      <td>0</td>\n",
              "      <td>1</td>\n",
              "      <td>3</td>\n",
              "      <td>4</td>\n",
              "      <td>0</td>\n",
              "      <td>220450</td>\n",
              "      <td>0</td>\n",
              "      <td>6</td>\n",
              "      <td>2067</td>\n",
              "      <td>F</td>\n",
              "      <td>Single</td>\n",
              "      <td>US Citizen</td>\n",
              "      <td>No</td>\n",
              "      <td>White</td>\n",
              "      <td>N/A-StillEmployed</td>\n",
              "      <td>Active</td>\n",
              "      <td>Exceeds</td>\n",
              "      <td>4.60</td>\n",
              "      <td>5</td>\n",
              "      <td>6</td>\n",
              "      <td>0</td>\n",
              "      <td>16</td>\n",
              "    </tr>\n",
              "    <tr>\n",
              "      <th>309</th>\n",
              "      <td>0</td>\n",
              "      <td>0</td>\n",
              "      <td>0</td>\n",
              "      <td>1</td>\n",
              "      <td>3</td>\n",
              "      <td>3</td>\n",
              "      <td>0</td>\n",
              "      <td>89292</td>\n",
              "      <td>0</td>\n",
              "      <td>9</td>\n",
              "      <td>2148</td>\n",
              "      <td>F</td>\n",
              "      <td>Single</td>\n",
              "      <td>US Citizen</td>\n",
              "      <td>No</td>\n",
              "      <td>White</td>\n",
              "      <td>N/A-StillEmployed</td>\n",
              "      <td>Active</td>\n",
              "      <td>Fully Meets</td>\n",
              "      <td>5.00</td>\n",
              "      <td>3</td>\n",
              "      <td>5</td>\n",
              "      <td>0</td>\n",
              "      <td>11</td>\n",
              "    </tr>\n",
              "    <tr>\n",
              "      <th>310</th>\n",
              "      <td>0</td>\n",
              "      <td>4</td>\n",
              "      <td>0</td>\n",
              "      <td>1</td>\n",
              "      <td>5</td>\n",
              "      <td>3</td>\n",
              "      <td>0</td>\n",
              "      <td>45046</td>\n",
              "      <td>0</td>\n",
              "      <td>19</td>\n",
              "      <td>1730</td>\n",
              "      <td>F</td>\n",
              "      <td>Widowed</td>\n",
              "      <td>US Citizen</td>\n",
              "      <td>No</td>\n",
              "      <td>Asian</td>\n",
              "      <td>N/A-StillEmployed</td>\n",
              "      <td>Active</td>\n",
              "      <td>Fully Meets</td>\n",
              "      <td>4.50</td>\n",
              "      <td>5</td>\n",
              "      <td>0</td>\n",
              "      <td>0</td>\n",
              "      <td>2</td>\n",
              "    </tr>\n",
              "  </tbody>\n",
              "</table>\n",
              "<p>311 rows × 24 columns</p>\n",
              "</div>"
            ],
            "text/plain": [
              "     MarriedID  MaritalStatusID  ...  DaysLateLast30  Absences\n",
              "0            0                0  ...               0         1\n",
              "1            1                1  ...               0        17\n",
              "2            1                1  ...               0         3\n",
              "3            1                1  ...               0        15\n",
              "4            0                2  ...               0         2\n",
              "..         ...              ...  ...             ...       ...\n",
              "306          0                0  ...               0        13\n",
              "307          0                0  ...               5         4\n",
              "308          0                0  ...               0        16\n",
              "309          0                0  ...               0        11\n",
              "310          0                4  ...               0         2\n",
              "\n",
              "[311 rows x 24 columns]"
            ]
          },
          "metadata": {},
          "execution_count": 17
        }
      ]
    },
    {
      "cell_type": "code",
      "metadata": {
        "colab": {
          "base_uri": "https://localhost:8080/"
        },
        "id": "DGezRqK7OdtW",
        "outputId": "433f6b13-bd77-4d3a-d847-77338c25ad32"
      },
      "source": [
        "cols_to_normalize = ['Salary','MaritalStatusID','EmpStatusID','DeptID','PerfScoreID','PositionID','Zip','EngagementSurvey','EmpSatisfaction','SpecialProjectsCount','DaysLateLast30','Absences']\n",
        "\n",
        "# Find the maximum and minimum values\n",
        "max = []\n",
        "min = []\n",
        "\n",
        "# loop for getting the max and min of each column \n",
        "for i in cols_to_normalize : \n",
        "  max.append(df[i].max())\n",
        "\n",
        "for i in cols_to_normalize:\n",
        "  min.append(df[i].min())\n",
        "\n",
        "print(\"max = \",max,\"min = \",min)\n",
        "\n",
        "k = 0 \n",
        "\n",
        "# loop for normalizing the column values \n",
        "for i in cols_to_normalize : \n",
        "  df[i] = (df[i] - min[k])/(max[k] - min[k])\n",
        "  k = k + 1 "
      ],
      "execution_count": 18,
      "outputs": [
        {
          "output_type": "stream",
          "name": "stdout",
          "text": [
            "max =  [250000, 4, 5, 6, 4, 30, 98052, 5.0, 5, 8, 6, 20] min =  [45046, 0, 1, 1, 1, 1, 1013, 1.12, 1, 0, 0, 1]\n"
          ]
        }
      ]
    },
    {
      "cell_type": "code",
      "metadata": {
        "colab": {
          "base_uri": "https://localhost:8080/",
          "height": 307
        },
        "id": "rzNlOT9bPsC_",
        "outputId": "381f22ca-e33e-441e-9b8f-54bc340fde65"
      },
      "source": [
        "df.head()"
      ],
      "execution_count": 19,
      "outputs": [
        {
          "output_type": "execute_result",
          "data": {
            "text/html": [
              "<div>\n",
              "<style scoped>\n",
              "    .dataframe tbody tr th:only-of-type {\n",
              "        vertical-align: middle;\n",
              "    }\n",
              "\n",
              "    .dataframe tbody tr th {\n",
              "        vertical-align: top;\n",
              "    }\n",
              "\n",
              "    .dataframe thead th {\n",
              "        text-align: right;\n",
              "    }\n",
              "</style>\n",
              "<table border=\"1\" class=\"dataframe\">\n",
              "  <thead>\n",
              "    <tr style=\"text-align: right;\">\n",
              "      <th></th>\n",
              "      <th>MarriedID</th>\n",
              "      <th>MaritalStatusID</th>\n",
              "      <th>GenderID</th>\n",
              "      <th>EmpStatusID</th>\n",
              "      <th>DeptID</th>\n",
              "      <th>PerfScoreID</th>\n",
              "      <th>FromDiversityJobFairID</th>\n",
              "      <th>Salary</th>\n",
              "      <th>Termd</th>\n",
              "      <th>PositionID</th>\n",
              "      <th>Zip</th>\n",
              "      <th>Sex</th>\n",
              "      <th>MaritalDesc</th>\n",
              "      <th>CitizenDesc</th>\n",
              "      <th>HispanicLatino</th>\n",
              "      <th>RaceDesc</th>\n",
              "      <th>TermReason</th>\n",
              "      <th>EmploymentStatus</th>\n",
              "      <th>PerformanceScore</th>\n",
              "      <th>EngagementSurvey</th>\n",
              "      <th>EmpSatisfaction</th>\n",
              "      <th>SpecialProjectsCount</th>\n",
              "      <th>DaysLateLast30</th>\n",
              "      <th>Absences</th>\n",
              "    </tr>\n",
              "  </thead>\n",
              "  <tbody>\n",
              "    <tr>\n",
              "      <th>0</th>\n",
              "      <td>0</td>\n",
              "      <td>0.00</td>\n",
              "      <td>1</td>\n",
              "      <td>0.0</td>\n",
              "      <td>0.8</td>\n",
              "      <td>1.000000</td>\n",
              "      <td>0</td>\n",
              "      <td>0.085190</td>\n",
              "      <td>0</td>\n",
              "      <td>0.620690</td>\n",
              "      <td>0.009759</td>\n",
              "      <td>M</td>\n",
              "      <td>Single</td>\n",
              "      <td>US Citizen</td>\n",
              "      <td>No</td>\n",
              "      <td>White</td>\n",
              "      <td>N/A-StillEmployed</td>\n",
              "      <td>Active</td>\n",
              "      <td>Exceeds</td>\n",
              "      <td>0.896907</td>\n",
              "      <td>1.00</td>\n",
              "      <td>0.00</td>\n",
              "      <td>0.0</td>\n",
              "      <td>0.000000</td>\n",
              "    </tr>\n",
              "    <tr>\n",
              "      <th>1</th>\n",
              "      <td>1</td>\n",
              "      <td>0.25</td>\n",
              "      <td>1</td>\n",
              "      <td>1.0</td>\n",
              "      <td>0.4</td>\n",
              "      <td>0.666667</td>\n",
              "      <td>0</td>\n",
              "      <td>0.289777</td>\n",
              "      <td>1</td>\n",
              "      <td>0.896552</td>\n",
              "      <td>0.011696</td>\n",
              "      <td>M</td>\n",
              "      <td>Married</td>\n",
              "      <td>US Citizen</td>\n",
              "      <td>No</td>\n",
              "      <td>White</td>\n",
              "      <td>career change</td>\n",
              "      <td>Voluntarily Terminated</td>\n",
              "      <td>Fully Meets</td>\n",
              "      <td>0.989691</td>\n",
              "      <td>0.50</td>\n",
              "      <td>0.75</td>\n",
              "      <td>0.0</td>\n",
              "      <td>0.842105</td>\n",
              "    </tr>\n",
              "    <tr>\n",
              "      <th>2</th>\n",
              "      <td>1</td>\n",
              "      <td>0.25</td>\n",
              "      <td>0</td>\n",
              "      <td>1.0</td>\n",
              "      <td>0.8</td>\n",
              "      <td>0.666667</td>\n",
              "      <td>0</td>\n",
              "      <td>0.097139</td>\n",
              "      <td>1</td>\n",
              "      <td>0.655172</td>\n",
              "      <td>0.008213</td>\n",
              "      <td>F</td>\n",
              "      <td>Married</td>\n",
              "      <td>US Citizen</td>\n",
              "      <td>No</td>\n",
              "      <td>White</td>\n",
              "      <td>hours</td>\n",
              "      <td>Voluntarily Terminated</td>\n",
              "      <td>Fully Meets</td>\n",
              "      <td>0.489691</td>\n",
              "      <td>0.50</td>\n",
              "      <td>0.00</td>\n",
              "      <td>0.0</td>\n",
              "      <td>0.105263</td>\n",
              "    </tr>\n",
              "    <tr>\n",
              "      <th>3</th>\n",
              "      <td>1</td>\n",
              "      <td>0.25</td>\n",
              "      <td>0</td>\n",
              "      <td>0.0</td>\n",
              "      <td>0.8</td>\n",
              "      <td>0.666667</td>\n",
              "      <td>0</td>\n",
              "      <td>0.097315</td>\n",
              "      <td>0</td>\n",
              "      <td>0.620690</td>\n",
              "      <td>0.008996</td>\n",
              "      <td>F</td>\n",
              "      <td>Married</td>\n",
              "      <td>US Citizen</td>\n",
              "      <td>No</td>\n",
              "      <td>White</td>\n",
              "      <td>N/A-StillEmployed</td>\n",
              "      <td>Active</td>\n",
              "      <td>Fully Meets</td>\n",
              "      <td>0.958763</td>\n",
              "      <td>1.00</td>\n",
              "      <td>0.00</td>\n",
              "      <td>0.0</td>\n",
              "      <td>0.736842</td>\n",
              "    </tr>\n",
              "    <tr>\n",
              "      <th>4</th>\n",
              "      <td>0</td>\n",
              "      <td>0.50</td>\n",
              "      <td>0</td>\n",
              "      <td>1.0</td>\n",
              "      <td>0.8</td>\n",
              "      <td>0.666667</td>\n",
              "      <td>0</td>\n",
              "      <td>0.028197</td>\n",
              "      <td>1</td>\n",
              "      <td>0.620690</td>\n",
              "      <td>0.011913</td>\n",
              "      <td>F</td>\n",
              "      <td>Divorced</td>\n",
              "      <td>US Citizen</td>\n",
              "      <td>No</td>\n",
              "      <td>White</td>\n",
              "      <td>return to school</td>\n",
              "      <td>Voluntarily Terminated</td>\n",
              "      <td>Fully Meets</td>\n",
              "      <td>1.000000</td>\n",
              "      <td>0.75</td>\n",
              "      <td>0.00</td>\n",
              "      <td>0.0</td>\n",
              "      <td>0.052632</td>\n",
              "    </tr>\n",
              "  </tbody>\n",
              "</table>\n",
              "</div>"
            ],
            "text/plain": [
              "   MarriedID  MaritalStatusID  ...  DaysLateLast30  Absences\n",
              "0          0             0.00  ...             0.0  0.000000\n",
              "1          1             0.25  ...             0.0  0.842105\n",
              "2          1             0.25  ...             0.0  0.105263\n",
              "3          1             0.25  ...             0.0  0.736842\n",
              "4          0             0.50  ...             0.0  0.052632\n",
              "\n",
              "[5 rows x 24 columns]"
            ]
          },
          "metadata": {},
          "execution_count": 19
        }
      ]
    },
    {
      "cell_type": "markdown",
      "metadata": {
        "id": "ETyH3rJvbUcq"
      },
      "source": [
        "**SPLITING OF THE DATA**"
      ]
    },
    {
      "cell_type": "code",
      "metadata": {
        "id": "FFBfofvybUCX"
      },
      "source": [
        "# the copy of the dataframe\n",
        "df_model = df.copy()"
      ],
      "execution_count": 20,
      "outputs": []
    },
    {
      "cell_type": "markdown",
      "metadata": {
        "id": "gMbfualVcNga"
      },
      "source": [
        "**ENCODING**"
      ]
    },
    {
      "cell_type": "code",
      "metadata": {
        "id": "Krv-2cNwcNO_"
      },
      "source": [
        "# Implement Sklearn label encoding on df\n",
        "from sklearn import preprocessing"
      ],
      "execution_count": 21,
      "outputs": []
    },
    {
      "cell_type": "code",
      "metadata": {
        "id": "F7gkaeI8dGIP"
      },
      "source": [
        "Lable_Encoder = preprocessing.LabelEncoder()"
      ],
      "execution_count": 22,
      "outputs": []
    },
    {
      "cell_type": "code",
      "metadata": {
        "id": "YEFqFNhAdJEA"
      },
      "source": [
        "df_model['Sex'] = Lable_Encoder.fit_transform(df_model['Sex'])"
      ],
      "execution_count": 23,
      "outputs": []
    },
    {
      "cell_type": "code",
      "metadata": {
        "id": "MfasHNDefIwq"
      },
      "source": [
        "df_model['MaritalDesc'] = Lable_Encoder.fit_transform(df_model['MaritalDesc'])"
      ],
      "execution_count": 24,
      "outputs": []
    },
    {
      "cell_type": "code",
      "metadata": {
        "id": "QddvfIDHfLlC"
      },
      "source": [
        "df_model['CitizenDesc'] = Lable_Encoder.fit_transform(df_model['CitizenDesc'])"
      ],
      "execution_count": 25,
      "outputs": []
    },
    {
      "cell_type": "code",
      "metadata": {
        "id": "wtsFoJ7PfPq2"
      },
      "source": [
        "df_model['HispanicLatino'] = Lable_Encoder.fit_transform(df_model['HispanicLatino'])"
      ],
      "execution_count": 26,
      "outputs": []
    },
    {
      "cell_type": "code",
      "metadata": {
        "id": "FMNswZfcfSXC"
      },
      "source": [
        "df_model['RaceDesc'] = Lable_Encoder.fit_transform(df_model['RaceDesc'])"
      ],
      "execution_count": 27,
      "outputs": []
    },
    {
      "cell_type": "code",
      "metadata": {
        "id": "Apf1UUi1fVIQ"
      },
      "source": [
        "df_model['TermReason'] = Lable_Encoder.fit_transform(df_model['TermReason'])"
      ],
      "execution_count": 28,
      "outputs": []
    },
    {
      "cell_type": "code",
      "metadata": {
        "id": "t9-uHPZOfX0f"
      },
      "source": [
        "df_model['EmploymentStatus'] = Lable_Encoder.fit_transform(df_model['EmploymentStatus'])"
      ],
      "execution_count": 29,
      "outputs": []
    },
    {
      "cell_type": "code",
      "metadata": {
        "id": "ZgSyIIbgfYlS"
      },
      "source": [
        "df_model['PerformanceScore'] = Lable_Encoder.fit_transform(df_model['PerformanceScore'])"
      ],
      "execution_count": 30,
      "outputs": []
    },
    {
      "cell_type": "code",
      "metadata": {
        "colab": {
          "base_uri": "https://localhost:8080/",
          "height": 437
        },
        "id": "RLLAXNuWfq7W",
        "outputId": "0ebeb8ee-39f1-4dec-ac8e-45747537a549"
      },
      "source": [
        "df_model"
      ],
      "execution_count": 31,
      "outputs": [
        {
          "output_type": "execute_result",
          "data": {
            "text/html": [
              "<div>\n",
              "<style scoped>\n",
              "    .dataframe tbody tr th:only-of-type {\n",
              "        vertical-align: middle;\n",
              "    }\n",
              "\n",
              "    .dataframe tbody tr th {\n",
              "        vertical-align: top;\n",
              "    }\n",
              "\n",
              "    .dataframe thead th {\n",
              "        text-align: right;\n",
              "    }\n",
              "</style>\n",
              "<table border=\"1\" class=\"dataframe\">\n",
              "  <thead>\n",
              "    <tr style=\"text-align: right;\">\n",
              "      <th></th>\n",
              "      <th>MarriedID</th>\n",
              "      <th>MaritalStatusID</th>\n",
              "      <th>GenderID</th>\n",
              "      <th>EmpStatusID</th>\n",
              "      <th>DeptID</th>\n",
              "      <th>PerfScoreID</th>\n",
              "      <th>FromDiversityJobFairID</th>\n",
              "      <th>Salary</th>\n",
              "      <th>Termd</th>\n",
              "      <th>PositionID</th>\n",
              "      <th>Zip</th>\n",
              "      <th>Sex</th>\n",
              "      <th>MaritalDesc</th>\n",
              "      <th>CitizenDesc</th>\n",
              "      <th>HispanicLatino</th>\n",
              "      <th>RaceDesc</th>\n",
              "      <th>TermReason</th>\n",
              "      <th>EmploymentStatus</th>\n",
              "      <th>PerformanceScore</th>\n",
              "      <th>EngagementSurvey</th>\n",
              "      <th>EmpSatisfaction</th>\n",
              "      <th>SpecialProjectsCount</th>\n",
              "      <th>DaysLateLast30</th>\n",
              "      <th>Absences</th>\n",
              "    </tr>\n",
              "  </thead>\n",
              "  <tbody>\n",
              "    <tr>\n",
              "      <th>0</th>\n",
              "      <td>0</td>\n",
              "      <td>0.00</td>\n",
              "      <td>1</td>\n",
              "      <td>0.0</td>\n",
              "      <td>0.8</td>\n",
              "      <td>1.000000</td>\n",
              "      <td>0</td>\n",
              "      <td>0.085190</td>\n",
              "      <td>0</td>\n",
              "      <td>0.620690</td>\n",
              "      <td>0.009759</td>\n",
              "      <td>1</td>\n",
              "      <td>3</td>\n",
              "      <td>2</td>\n",
              "      <td>0</td>\n",
              "      <td>5</td>\n",
              "      <td>3</td>\n",
              "      <td>0</td>\n",
              "      <td>0</td>\n",
              "      <td>0.896907</td>\n",
              "      <td>1.00</td>\n",
              "      <td>0.000</td>\n",
              "      <td>0.000000</td>\n",
              "      <td>0.000000</td>\n",
              "    </tr>\n",
              "    <tr>\n",
              "      <th>1</th>\n",
              "      <td>1</td>\n",
              "      <td>0.25</td>\n",
              "      <td>1</td>\n",
              "      <td>1.0</td>\n",
              "      <td>0.4</td>\n",
              "      <td>0.666667</td>\n",
              "      <td>0</td>\n",
              "      <td>0.289777</td>\n",
              "      <td>1</td>\n",
              "      <td>0.896552</td>\n",
              "      <td>0.011696</td>\n",
              "      <td>1</td>\n",
              "      <td>1</td>\n",
              "      <td>2</td>\n",
              "      <td>0</td>\n",
              "      <td>5</td>\n",
              "      <td>5</td>\n",
              "      <td>2</td>\n",
              "      <td>1</td>\n",
              "      <td>0.989691</td>\n",
              "      <td>0.50</td>\n",
              "      <td>0.750</td>\n",
              "      <td>0.000000</td>\n",
              "      <td>0.842105</td>\n",
              "    </tr>\n",
              "    <tr>\n",
              "      <th>2</th>\n",
              "      <td>1</td>\n",
              "      <td>0.25</td>\n",
              "      <td>0</td>\n",
              "      <td>1.0</td>\n",
              "      <td>0.8</td>\n",
              "      <td>0.666667</td>\n",
              "      <td>0</td>\n",
              "      <td>0.097139</td>\n",
              "      <td>1</td>\n",
              "      <td>0.655172</td>\n",
              "      <td>0.008213</td>\n",
              "      <td>0</td>\n",
              "      <td>1</td>\n",
              "      <td>2</td>\n",
              "      <td>0</td>\n",
              "      <td>5</td>\n",
              "      <td>7</td>\n",
              "      <td>2</td>\n",
              "      <td>1</td>\n",
              "      <td>0.489691</td>\n",
              "      <td>0.50</td>\n",
              "      <td>0.000</td>\n",
              "      <td>0.000000</td>\n",
              "      <td>0.105263</td>\n",
              "    </tr>\n",
              "    <tr>\n",
              "      <th>3</th>\n",
              "      <td>1</td>\n",
              "      <td>0.25</td>\n",
              "      <td>0</td>\n",
              "      <td>0.0</td>\n",
              "      <td>0.8</td>\n",
              "      <td>0.666667</td>\n",
              "      <td>0</td>\n",
              "      <td>0.097315</td>\n",
              "      <td>0</td>\n",
              "      <td>0.620690</td>\n",
              "      <td>0.008996</td>\n",
              "      <td>0</td>\n",
              "      <td>1</td>\n",
              "      <td>2</td>\n",
              "      <td>0</td>\n",
              "      <td>5</td>\n",
              "      <td>3</td>\n",
              "      <td>0</td>\n",
              "      <td>1</td>\n",
              "      <td>0.958763</td>\n",
              "      <td>1.00</td>\n",
              "      <td>0.000</td>\n",
              "      <td>0.000000</td>\n",
              "      <td>0.736842</td>\n",
              "    </tr>\n",
              "    <tr>\n",
              "      <th>4</th>\n",
              "      <td>0</td>\n",
              "      <td>0.50</td>\n",
              "      <td>0</td>\n",
              "      <td>1.0</td>\n",
              "      <td>0.8</td>\n",
              "      <td>0.666667</td>\n",
              "      <td>0</td>\n",
              "      <td>0.028197</td>\n",
              "      <td>1</td>\n",
              "      <td>0.620690</td>\n",
              "      <td>0.011913</td>\n",
              "      <td>0</td>\n",
              "      <td>0</td>\n",
              "      <td>2</td>\n",
              "      <td>0</td>\n",
              "      <td>5</td>\n",
              "      <td>16</td>\n",
              "      <td>2</td>\n",
              "      <td>1</td>\n",
              "      <td>1.000000</td>\n",
              "      <td>0.75</td>\n",
              "      <td>0.000</td>\n",
              "      <td>0.000000</td>\n",
              "      <td>0.052632</td>\n",
              "    </tr>\n",
              "    <tr>\n",
              "      <th>...</th>\n",
              "      <td>...</td>\n",
              "      <td>...</td>\n",
              "      <td>...</td>\n",
              "      <td>...</td>\n",
              "      <td>...</td>\n",
              "      <td>...</td>\n",
              "      <td>...</td>\n",
              "      <td>...</td>\n",
              "      <td>...</td>\n",
              "      <td>...</td>\n",
              "      <td>...</td>\n",
              "      <td>...</td>\n",
              "      <td>...</td>\n",
              "      <td>...</td>\n",
              "      <td>...</td>\n",
              "      <td>...</td>\n",
              "      <td>...</td>\n",
              "      <td>...</td>\n",
              "      <td>...</td>\n",
              "      <td>...</td>\n",
              "      <td>...</td>\n",
              "      <td>...</td>\n",
              "      <td>...</td>\n",
              "      <td>...</td>\n",
              "    </tr>\n",
              "    <tr>\n",
              "      <th>306</th>\n",
              "      <td>0</td>\n",
              "      <td>0.00</td>\n",
              "      <td>1</td>\n",
              "      <td>0.0</td>\n",
              "      <td>0.8</td>\n",
              "      <td>0.666667</td>\n",
              "      <td>0</td>\n",
              "      <td>0.101716</td>\n",
              "      <td>0</td>\n",
              "      <td>0.655172</td>\n",
              "      <td>0.008213</td>\n",
              "      <td>1</td>\n",
              "      <td>3</td>\n",
              "      <td>2</td>\n",
              "      <td>0</td>\n",
              "      <td>5</td>\n",
              "      <td>3</td>\n",
              "      <td>0</td>\n",
              "      <td>1</td>\n",
              "      <td>0.760309</td>\n",
              "      <td>0.75</td>\n",
              "      <td>0.000</td>\n",
              "      <td>0.000000</td>\n",
              "      <td>0.631579</td>\n",
              "    </tr>\n",
              "    <tr>\n",
              "      <th>307</th>\n",
              "      <td>0</td>\n",
              "      <td>0.00</td>\n",
              "      <td>0</td>\n",
              "      <td>1.0</td>\n",
              "      <td>0.8</td>\n",
              "      <td>0.000000</td>\n",
              "      <td>0</td>\n",
              "      <td>0.016916</td>\n",
              "      <td>1</td>\n",
              "      <td>0.620690</td>\n",
              "      <td>0.014891</td>\n",
              "      <td>0</td>\n",
              "      <td>3</td>\n",
              "      <td>2</td>\n",
              "      <td>0</td>\n",
              "      <td>1</td>\n",
              "      <td>0</td>\n",
              "      <td>2</td>\n",
              "      <td>3</td>\n",
              "      <td>0.536082</td>\n",
              "      <td>0.25</td>\n",
              "      <td>0.000</td>\n",
              "      <td>0.833333</td>\n",
              "      <td>0.157895</td>\n",
              "    </tr>\n",
              "    <tr>\n",
              "      <th>308</th>\n",
              "      <td>0</td>\n",
              "      <td>0.00</td>\n",
              "      <td>0</td>\n",
              "      <td>0.0</td>\n",
              "      <td>0.4</td>\n",
              "      <td>1.000000</td>\n",
              "      <td>0</td>\n",
              "      <td>0.855821</td>\n",
              "      <td>0</td>\n",
              "      <td>0.172414</td>\n",
              "      <td>0.010862</td>\n",
              "      <td>0</td>\n",
              "      <td>3</td>\n",
              "      <td>2</td>\n",
              "      <td>0</td>\n",
              "      <td>5</td>\n",
              "      <td>3</td>\n",
              "      <td>0</td>\n",
              "      <td>0</td>\n",
              "      <td>0.896907</td>\n",
              "      <td>1.00</td>\n",
              "      <td>0.750</td>\n",
              "      <td>0.000000</td>\n",
              "      <td>0.789474</td>\n",
              "    </tr>\n",
              "    <tr>\n",
              "      <th>309</th>\n",
              "      <td>0</td>\n",
              "      <td>0.00</td>\n",
              "      <td>0</td>\n",
              "      <td>0.0</td>\n",
              "      <td>0.4</td>\n",
              "      <td>0.666667</td>\n",
              "      <td>0</td>\n",
              "      <td>0.215883</td>\n",
              "      <td>0</td>\n",
              "      <td>0.275862</td>\n",
              "      <td>0.011696</td>\n",
              "      <td>0</td>\n",
              "      <td>3</td>\n",
              "      <td>2</td>\n",
              "      <td>0</td>\n",
              "      <td>5</td>\n",
              "      <td>3</td>\n",
              "      <td>0</td>\n",
              "      <td>1</td>\n",
              "      <td>1.000000</td>\n",
              "      <td>0.50</td>\n",
              "      <td>0.625</td>\n",
              "      <td>0.000000</td>\n",
              "      <td>0.526316</td>\n",
              "    </tr>\n",
              "    <tr>\n",
              "      <th>310</th>\n",
              "      <td>0</td>\n",
              "      <td>1.00</td>\n",
              "      <td>0</td>\n",
              "      <td>0.0</td>\n",
              "      <td>0.8</td>\n",
              "      <td>0.666667</td>\n",
              "      <td>0</td>\n",
              "      <td>0.000000</td>\n",
              "      <td>0</td>\n",
              "      <td>0.620690</td>\n",
              "      <td>0.007389</td>\n",
              "      <td>0</td>\n",
              "      <td>4</td>\n",
              "      <td>2</td>\n",
              "      <td>0</td>\n",
              "      <td>1</td>\n",
              "      <td>3</td>\n",
              "      <td>0</td>\n",
              "      <td>1</td>\n",
              "      <td>0.871134</td>\n",
              "      <td>1.00</td>\n",
              "      <td>0.000</td>\n",
              "      <td>0.000000</td>\n",
              "      <td>0.052632</td>\n",
              "    </tr>\n",
              "  </tbody>\n",
              "</table>\n",
              "<p>311 rows × 24 columns</p>\n",
              "</div>"
            ],
            "text/plain": [
              "     MarriedID  MaritalStatusID  ...  DaysLateLast30  Absences\n",
              "0            0             0.00  ...        0.000000  0.000000\n",
              "1            1             0.25  ...        0.000000  0.842105\n",
              "2            1             0.25  ...        0.000000  0.105263\n",
              "3            1             0.25  ...        0.000000  0.736842\n",
              "4            0             0.50  ...        0.000000  0.052632\n",
              "..         ...              ...  ...             ...       ...\n",
              "306          0             0.00  ...        0.000000  0.631579\n",
              "307          0             0.00  ...        0.833333  0.157895\n",
              "308          0             0.00  ...        0.000000  0.789474\n",
              "309          0             0.00  ...        0.000000  0.526316\n",
              "310          0             1.00  ...        0.000000  0.052632\n",
              "\n",
              "[311 rows x 24 columns]"
            ]
          },
          "metadata": {},
          "execution_count": 31
        }
      ]
    },
    {
      "cell_type": "code",
      "metadata": {
        "colab": {
          "base_uri": "https://localhost:8080/",
          "height": 223
        },
        "id": "RKLSgW9gf3vk",
        "outputId": "1c21d7f2-3ec5-4c8c-bbde-dd5a5b17457d"
      },
      "source": [
        "df_model.corr().head()"
      ],
      "execution_count": 32,
      "outputs": [
        {
          "output_type": "execute_result",
          "data": {
            "text/html": [
              "<div>\n",
              "<style scoped>\n",
              "    .dataframe tbody tr th:only-of-type {\n",
              "        vertical-align: middle;\n",
              "    }\n",
              "\n",
              "    .dataframe tbody tr th {\n",
              "        vertical-align: top;\n",
              "    }\n",
              "\n",
              "    .dataframe thead th {\n",
              "        text-align: right;\n",
              "    }\n",
              "</style>\n",
              "<table border=\"1\" class=\"dataframe\">\n",
              "  <thead>\n",
              "    <tr style=\"text-align: right;\">\n",
              "      <th></th>\n",
              "      <th>MarriedID</th>\n",
              "      <th>MaritalStatusID</th>\n",
              "      <th>GenderID</th>\n",
              "      <th>EmpStatusID</th>\n",
              "      <th>DeptID</th>\n",
              "      <th>PerfScoreID</th>\n",
              "      <th>FromDiversityJobFairID</th>\n",
              "      <th>Salary</th>\n",
              "      <th>Termd</th>\n",
              "      <th>PositionID</th>\n",
              "      <th>Zip</th>\n",
              "      <th>Sex</th>\n",
              "      <th>MaritalDesc</th>\n",
              "      <th>CitizenDesc</th>\n",
              "      <th>HispanicLatino</th>\n",
              "      <th>RaceDesc</th>\n",
              "      <th>TermReason</th>\n",
              "      <th>EmploymentStatus</th>\n",
              "      <th>PerformanceScore</th>\n",
              "      <th>EngagementSurvey</th>\n",
              "      <th>EmpSatisfaction</th>\n",
              "      <th>SpecialProjectsCount</th>\n",
              "      <th>DaysLateLast30</th>\n",
              "      <th>Absences</th>\n",
              "    </tr>\n",
              "  </thead>\n",
              "  <tbody>\n",
              "    <tr>\n",
              "      <th>MarriedID</th>\n",
              "      <td>1.000000</td>\n",
              "      <td>0.164044</td>\n",
              "      <td>-0.024199</td>\n",
              "      <td>0.085619</td>\n",
              "      <td>-0.119932</td>\n",
              "      <td>-0.058362</td>\n",
              "      <td>-0.012708</td>\n",
              "      <td>0.026165</td>\n",
              "      <td>0.077028</td>\n",
              "      <td>-0.027334</td>\n",
              "      <td>-0.041147</td>\n",
              "      <td>-0.024199</td>\n",
              "      <td>-0.638592</td>\n",
              "      <td>-0.046692</td>\n",
              "      <td>-0.052735</td>\n",
              "      <td>0.029099</td>\n",
              "      <td>0.008115</td>\n",
              "      <td>0.076601</td>\n",
              "      <td>0.058362</td>\n",
              "      <td>-0.091178</td>\n",
              "      <td>-0.126191</td>\n",
              "      <td>0.061278</td>\n",
              "      <td>0.002875</td>\n",
              "      <td>0.096086</td>\n",
              "    </tr>\n",
              "    <tr>\n",
              "      <th>MaritalStatusID</th>\n",
              "      <td>0.164044</td>\n",
              "      <td>1.000000</td>\n",
              "      <td>-0.030236</td>\n",
              "      <td>0.114630</td>\n",
              "      <td>0.012768</td>\n",
              "      <td>0.044693</td>\n",
              "      <td>0.041117</td>\n",
              "      <td>-0.070291</td>\n",
              "      <td>0.099367</td>\n",
              "      <td>0.021923</td>\n",
              "      <td>0.010620</td>\n",
              "      <td>-0.030236</td>\n",
              "      <td>-0.460629</td>\n",
              "      <td>0.005890</td>\n",
              "      <td>-0.108620</td>\n",
              "      <td>-0.061421</td>\n",
              "      <td>0.055300</td>\n",
              "      <td>0.112176</td>\n",
              "      <td>-0.044693</td>\n",
              "      <td>0.033249</td>\n",
              "      <td>0.002068</td>\n",
              "      <td>-0.051093</td>\n",
              "      <td>-0.096500</td>\n",
              "      <td>0.018722</td>\n",
              "    </tr>\n",
              "    <tr>\n",
              "      <th>GenderID</th>\n",
              "      <td>-0.024199</td>\n",
              "      <td>-0.030236</td>\n",
              "      <td>1.000000</td>\n",
              "      <td>-0.032440</td>\n",
              "      <td>-0.038838</td>\n",
              "      <td>-0.054915</td>\n",
              "      <td>0.031493</td>\n",
              "      <td>0.056097</td>\n",
              "      <td>-0.015741</td>\n",
              "      <td>-0.081612</td>\n",
              "      <td>0.048539</td>\n",
              "      <td>1.000000</td>\n",
              "      <td>0.019533</td>\n",
              "      <td>-0.013754</td>\n",
              "      <td>0.020948</td>\n",
              "      <td>0.031101</td>\n",
              "      <td>0.008426</td>\n",
              "      <td>-0.016979</td>\n",
              "      <td>0.054915</td>\n",
              "      <td>-0.036276</td>\n",
              "      <td>-0.044603</td>\n",
              "      <td>0.087073</td>\n",
              "      <td>0.080329</td>\n",
              "      <td>-0.004577</td>\n",
              "    </tr>\n",
              "    <tr>\n",
              "      <th>EmpStatusID</th>\n",
              "      <td>0.085619</td>\n",
              "      <td>0.114630</td>\n",
              "      <td>-0.032440</td>\n",
              "      <td>1.000000</td>\n",
              "      <td>0.088711</td>\n",
              "      <td>-0.071208</td>\n",
              "      <td>0.189025</td>\n",
              "      <td>-0.110912</td>\n",
              "      <td>0.948058</td>\n",
              "      <td>0.221221</td>\n",
              "      <td>-0.150527</td>\n",
              "      <td>-0.032440</td>\n",
              "      <td>-0.159212</td>\n",
              "      <td>-0.058570</td>\n",
              "      <td>-0.049908</td>\n",
              "      <td>-0.020552</td>\n",
              "      <td>0.594521</td>\n",
              "      <td>0.959279</td>\n",
              "      <td>0.071208</td>\n",
              "      <td>0.024305</td>\n",
              "      <td>0.010553</td>\n",
              "      <td>-0.166560</td>\n",
              "      <td>0.078318</td>\n",
              "      <td>0.091834</td>\n",
              "    </tr>\n",
              "    <tr>\n",
              "      <th>DeptID</th>\n",
              "      <td>-0.119932</td>\n",
              "      <td>0.012768</td>\n",
              "      <td>-0.038838</td>\n",
              "      <td>0.088711</td>\n",
              "      <td>1.000000</td>\n",
              "      <td>-0.084811</td>\n",
              "      <td>-0.129998</td>\n",
              "      <td>-0.448132</td>\n",
              "      <td>0.065922</td>\n",
              "      <td>0.030294</td>\n",
              "      <td>0.290023</td>\n",
              "      <td>-0.038838</td>\n",
              "      <td>0.090461</td>\n",
              "      <td>0.015695</td>\n",
              "      <td>-0.082626</td>\n",
              "      <td>0.060420</td>\n",
              "      <td>0.057626</td>\n",
              "      <td>0.085298</td>\n",
              "      <td>0.084811</td>\n",
              "      <td>-0.094940</td>\n",
              "      <td>0.031997</td>\n",
              "      <td>-0.785101</td>\n",
              "      <td>0.124630</td>\n",
              "      <td>0.053308</td>\n",
              "    </tr>\n",
              "  </tbody>\n",
              "</table>\n",
              "</div>"
            ],
            "text/plain": [
              "                 MarriedID  MaritalStatusID  ...  DaysLateLast30  Absences\n",
              "MarriedID         1.000000         0.164044  ...        0.002875  0.096086\n",
              "MaritalStatusID   0.164044         1.000000  ...       -0.096500  0.018722\n",
              "GenderID         -0.024199        -0.030236  ...        0.080329 -0.004577\n",
              "EmpStatusID       0.085619         0.114630  ...        0.078318  0.091834\n",
              "DeptID           -0.119932         0.012768  ...        0.124630  0.053308\n",
              "\n",
              "[5 rows x 24 columns]"
            ]
          },
          "metadata": {},
          "execution_count": 32
        }
      ]
    },
    {
      "cell_type": "markdown",
      "metadata": {
        "id": "c1DMSJIvgPDD"
      },
      "source": [
        "**DATA VISUALIZATION**"
      ]
    },
    {
      "cell_type": "code",
      "metadata": {
        "id": "oQhDU24hQ5Mi"
      },
      "source": [
        "import matplotlib.pyplot as plt"
      ],
      "execution_count": 33,
      "outputs": []
    },
    {
      "cell_type": "code",
      "metadata": {
        "colab": {
          "base_uri": "https://localhost:8080/",
          "height": 34
        },
        "id": "1M8Z_KpSQg-E",
        "outputId": "98672270-c199-4f27-a6f0-15977e8c93e8"
      },
      "source": [
        "df1 = df_visualization['Salary'].describe()\n",
        "fig = plt.figure(figsize =(10,7))"
      ],
      "execution_count": 34,
      "outputs": [
        {
          "output_type": "display_data",
          "data": {
            "text/plain": [
              "<Figure size 720x504 with 0 Axes>"
            ]
          },
          "metadata": {}
        }
      ]
    },
    {
      "cell_type": "code",
      "metadata": {
        "colab": {
          "base_uri": "https://localhost:8080/",
          "height": 399
        },
        "id": "CRHTt_AYP1xw",
        "outputId": "3fc46ee7-eee7-4300-b195-c8f4866cd6e5"
      },
      "source": [
        "plt.boxplot(df1)"
      ],
      "execution_count": 35,
      "outputs": [
        {
          "output_type": "execute_result",
          "data": {
            "text/plain": [
              "{'boxes': [<matplotlib.lines.Line2D at 0x7f2392438990>],\n",
              " 'caps': [<matplotlib.lines.Line2D at 0x7f2392416dd0>,\n",
              "  <matplotlib.lines.Line2D at 0x7f239239e350>],\n",
              " 'fliers': [<matplotlib.lines.Line2D at 0x7f239239ee10>],\n",
              " 'means': [],\n",
              " 'medians': [<matplotlib.lines.Line2D at 0x7f239239e8d0>],\n",
              " 'whiskers': [<matplotlib.lines.Line2D at 0x7f2392416350>,\n",
              "  <matplotlib.lines.Line2D at 0x7f2392416890>]}"
            ]
          },
          "metadata": {},
          "execution_count": 35
        },
        {
          "output_type": "display_data",
          "data": {
            "image/png": "[encoded data removed]",
            "text/plain": [
              "<Figure size 432x288 with 1 Axes>"
            ]
          },
          "metadata": {
            "needs_background": "light"
          }
        }
      ]
    },
    {
      "cell_type": "code",
      "metadata": {
        "colab": {
          "base_uri": "https://localhost:8080/",
          "height": 562
        },
        "id": "-CAtQbNMSQF6",
        "outputId": "01b9903e-0491-4d72-8ebc-ddb66a632faa"
      },
      "source": [
        "df2 = df_visualization['Zip'].describe()\n",
        "fig = plt.figure(figsize =(10,7))\n",
        "plt.boxplot(df2)"
      ],
      "execution_count": 36,
      "outputs": [
        {
          "output_type": "execute_result",
          "data": {
            "text/plain": [
              "{'boxes': [<matplotlib.lines.Line2D at 0x7f2391ee3690>],\n",
              " 'caps': [<matplotlib.lines.Line2D at 0x7f2391ee8710>,\n",
              "  <matplotlib.lines.Line2D at 0x7f2391ee8c10>],\n",
              " 'fliers': [<matplotlib.lines.Line2D at 0x7f2391ef0750>],\n",
              " 'means': [],\n",
              " 'medians': [<matplotlib.lines.Line2D at 0x7f2391ef0210>],\n",
              " 'whiskers': [<matplotlib.lines.Line2D at 0x7f2391ee3c50>,\n",
              "  <matplotlib.lines.Line2D at 0x7f2391ee81d0>]}"
            ]
          },
          "metadata": {},
          "execution_count": 36
        },
        {
          "output_type": "display_data",
          "data": {
            "image/png": "[encoded data removed]",
            "text/plain": [
              "<Figure size 720x504 with 1 Axes>"
            ]
          },
          "metadata": {
            "needs_background": "light"
          }
        }
      ]
    },
    {
      "cell_type": "code",
      "metadata": {
        "colab": {
          "base_uri": "https://localhost:8080/",
          "height": 562
        },
        "id": "P34_uZJCSixm",
        "outputId": "905208f9-653d-40b9-a1f3-ffad21e82cbb"
      },
      "source": [
        "df3 = df_visualization['Absences'].describe()\n",
        "fig = plt.figure(figsize =(10,7))\n",
        "plt.boxplot(df3)"
      ],
      "execution_count": 37,
      "outputs": [
        {
          "output_type": "execute_result",
          "data": {
            "text/plain": [
              "{'boxes': [<matplotlib.lines.Line2D at 0x7f2391e55590>],\n",
              " 'caps': [<matplotlib.lines.Line2D at 0x7f2391e5a610>,\n",
              "  <matplotlib.lines.Line2D at 0x7f2391e5ab50>],\n",
              " 'fliers': [<matplotlib.lines.Line2D at 0x7f2391e62650>],\n",
              " 'means': [],\n",
              " 'medians': [<matplotlib.lines.Line2D at 0x7f2391e62110>],\n",
              " 'whiskers': [<matplotlib.lines.Line2D at 0x7f2391e55b50>,\n",
              "  <matplotlib.lines.Line2D at 0x7f2391e5a0d0>]}"
            ]
          },
          "metadata": {},
          "execution_count": 37
        },
        {
          "output_type": "display_data",
          "data": {
            "image/png": "[encoded data removed]",
            "text/plain": [
              "<Figure size 720x504 with 1 Axes>"
            ]
          },
          "metadata": {
            "needs_background": "light"
          }
        }
      ]
    },
    {
      "cell_type": "code",
      "metadata": {
        "colab": {
          "base_uri": "https://localhost:8080/",
          "height": 248
        },
        "id": "G23ajlcHTuIe",
        "outputId": "5c0b1dcd-476b-4510-faa5-ee8da5edab7e"
      },
      "source": [
        "from mpl_toolkits import mplot3d\n",
        "import numpy as np\n",
        "import matplotlib.pyplot as plt\n",
        " \n",
        "fig = plt.figure()\n",
        " \n",
        "# syntax for 3-D projection\n",
        "ax = plt.axes(projection ='3d')\n",
        "x = df_visualization['Salary']\n",
        "y = df_visualization['EmpSatisfaction']\n",
        "z = df_visualization['Absences'] \n",
        "\n",
        "ax.scatter(x,y,z)\n",
        "ax.set_title('3-D scatter plot')\n",
        "plt.show()"
      ],
      "execution_count": 38,
      "outputs": [
        {
          "output_type": "display_data",
          "data": {
            "image/png": "[encoded data removed]",
            "text/plain": [
              "<Figure size 432x288 with 1 Axes>"
            ]
          },
          "metadata": {
            "needs_background": "light"
          }
        }
      ]
    },
    {
      "cell_type": "code",
      "metadata": {
        "colab": {
          "base_uri": "https://localhost:8080/",
          "height": 248
        },
        "id": "LzIb9n1VUxlz",
        "outputId": "cefee6ee-3c0a-4694-ff68-db1b9e27dc3d"
      },
      "source": [
        "from mpl_toolkits import mplot3d\n",
        "import numpy as np\n",
        "import matplotlib.pyplot as plt\n",
        " \n",
        "fig = plt.figure()\n",
        " \n",
        "# syntax for 3-D projection\n",
        "ax = plt.axes(projection ='3d')\n",
        "x = df_visualization['Salary']\n",
        "y = df_visualization['EngagementSurvey']\n",
        "z = df_visualization['Zip'] \n",
        "\n",
        "ax.plot3D(x,y,z)\n",
        "ax.set_title('3-D plot')\n",
        "plt.show()"
      ],
      "execution_count": 39,
      "outputs": [
        {
          "output_type": "display_data",
          "data": {
            "image/png": "[encoded data removed]",
            "text/plain": [
              "<Figure size 432x288 with 1 Axes>"
            ]
          },
          "metadata": {
            "needs_background": "light"
          }
        }
      ]
    },
    {
      "cell_type": "code",
      "metadata": {
        "colab": {
          "base_uri": "https://localhost:8080/",
          "height": 248
        },
        "id": "fsreZ4ZzVwa_",
        "outputId": "b74d7fde-cbb2-47d0-87a1-bed3cef7e151"
      },
      "source": [
        "from mpl_toolkits import mplot3d\n",
        "import numpy as np\n",
        "import matplotlib.pyplot as plt\n",
        " \n",
        "fig = plt.figure()\n",
        " \n",
        "# syntax for 3-D projection\n",
        "ax = plt.axes(projection ='3d')\n",
        "x = df_model['PerformanceScore']\n",
        "y = df_model['EngagementSurvey']\n",
        "z = df_model[['Sex']] \n",
        "\n",
        "ax.plot_surface(x,y,z)\n",
        "ax.set_title('3-D plot_surface')\n",
        "plt.show()"
      ],
      "execution_count": 40,
      "outputs": [
        {
          "output_type": "display_data",
          "data": {
            "image/png": "[encoded data removed]",
            "text/plain": [
              "<Figure size 432x288 with 1 Axes>"
            ]
          },
          "metadata": {
            "needs_background": "light"
          }
        }
      ]
    },
    {
      "cell_type": "code",
      "metadata": {
        "id": "8OR6kJxngTOD",
        "colab": {
          "base_uri": "https://localhost:8080/",
          "height": 295
        },
        "outputId": "49b7d845-2615-4685-8048-9d573aef154c"
      },
      "source": [
        "# scatterplot between performance score and  EmpSatisfaction\t\n",
        "plt.scatter((df_visualization['PerformanceScore']) , df_visualization['EmpSatisfaction'], c = ['steelblue'])\n",
        "plt.xlabel(\"Performance\")\n",
        "plt.ylabel(\"Employee satisfaction\")\n",
        "plt.title(\"performance score vs employee satisfaction\")\n",
        "plt.show()"
      ],
      "execution_count": 41,
      "outputs": [
        {
          "output_type": "display_data",
          "data": {
            "image/png": "[encoded data removed]",
            "text/plain": [
              "<Figure size 432x288 with 1 Axes>"
            ]
          },
          "metadata": {
            "needs_background": "light"
          }
        }
      ]
    },
    {
      "cell_type": "code",
      "metadata": {
        "colab": {
          "base_uri": "https://localhost:8080/",
          "height": 362
        },
        "id": "OiCe_LEqSwMN",
        "outputId": "de76d8b2-beee-48df-c053-f01a37d40b76"
      },
      "source": [
        "# scatterplot between performance score and  EngagementSurvey\t\n",
        "plt.scatter((df_visualization['PerformanceScore']) , df_visualization['EngagementSurvey'], c = ['Red'])\n",
        "plt.xlabel(\"Performance\")\n",
        "plt.ylabel(\"EngagementSurvey\t\")\n",
        "plt.title(\"performance score vs EngagementSurvey\")\n",
        "plt.show()"
      ],
      "execution_count": 42,
      "outputs": [
        {
          "output_type": "stream",
          "name": "stderr",
          "text": [
            "/usr/local/lib/python3.7/dist-packages/matplotlib/backends/backend_agg.py:214: RuntimeWarning: Glyph 9 missing from current font.\n",
            "  font.set_text(s, 0.0, flags=flags)\n",
            "/usr/local/lib/python3.7/dist-packages/matplotlib/backends/backend_agg.py:183: RuntimeWarning: Glyph 9 missing from current font.\n",
            "  font.set_text(s, 0, flags=flags)\n"
          ]
        },
        {
          "output_type": "display_data",
          "data": {
            "image/png": "[encoded data removed]",
            "text/plain": [
              "<Figure size 432x288 with 1 Axes>"
            ]
          },
          "metadata": {
            "needs_background": "light"
          }
        }
      ]
    },
    {
      "cell_type": "code",
      "metadata": {
        "colab": {
          "base_uri": "https://localhost:8080/",
          "height": 295
        },
        "id": "6c-taYhyTH6A",
        "outputId": "b2740380-43c0-4007-b75c-b224d7a28b9c"
      },
      "source": [
        "# scatterplot between performance score and  Absences\t\n",
        "plt.scatter((df_visualization['PerformanceScore']) , df_visualization['Absences'], c = ['Green'])\n",
        "plt.xlabel(\"Performance\")\n",
        "plt.ylabel(\"Absences\")\n",
        "plt.title(\"performance score vs Absences\")\n",
        "plt.show()"
      ],
      "execution_count": 43,
      "outputs": [
        {
          "output_type": "display_data",
          "data": {
            "image/png": "[encoded data removed]",
            "text/plain": [
              "<Figure size 432x288 with 1 Axes>"
            ]
          },
          "metadata": {
            "needs_background": "light"
          }
        }
      ]
    },
    {
      "cell_type": "code",
      "metadata": {
        "colab": {
          "base_uri": "https://localhost:8080/",
          "height": 295
        },
        "id": "bIwi2jqrTe_Z",
        "outputId": "f0b144fd-3ff5-4d79-cb3c-6f07ad8fbddc"
      },
      "source": [
        "# scatterplot between performance score and  SpecialProjectsCount\t\n",
        "plt.scatter((df_visualization['PerformanceScore']) , df_visualization['SpecialProjectsCount'], c = ['Maroon'])\n",
        "plt.xlabel(\"Performance\")\n",
        "plt.ylabel(\"SpecialProjectsCount\")\n",
        "plt.title(\"performance score vs SpecialProjectsCount\")\n",
        "plt.show()"
      ],
      "execution_count": 44,
      "outputs": [
        {
          "output_type": "display_data",
          "data": {
            "image/png": "[encoded data removed]",
            "text/plain": [
              "<Figure size 432x288 with 1 Axes>"
            ]
          },
          "metadata": {
            "needs_background": "light"
          }
        }
      ]
    },
    {
      "cell_type": "code",
      "metadata": {
        "colab": {
          "base_uri": "https://localhost:8080/",
          "height": 295
        },
        "id": "Y5XqumNxT4Mr",
        "outputId": "3b37d161-fec3-4ccf-aa04-5199efb70462"
      },
      "source": [
        "# scatterplot between performance score and  \tSalary\n",
        "plt.scatter((df_visualization['PerformanceScore']) , df_visualization['Salary'], c = ['Orange'])\n",
        "plt.xlabel(\"Performance\")\n",
        "plt.ylabel(\"Salary\")\n",
        "plt.title(\"performance score vs Salary\")\n",
        "plt.show()"
      ],
      "execution_count": 45,
      "outputs": [
        {
          "output_type": "display_data",
          "data": {
            "image/png": "[encoded data removed]",
            "text/plain": [
              "<Figure size 432x288 with 1 Axes>"
            ]
          },
          "metadata": {
            "needs_background": "light"
          }
        }
      ]
    },
    {
      "cell_type": "markdown",
      "metadata": {
        "id": "KGZGDkU3xMb9"
      },
      "source": [
        "# **MODEL IMPLEMENTATION**"
      ]
    },
    {
      "cell_type": "markdown",
      "metadata": {
        "id": "oo0Gn-DMxbra"
      },
      "source": [
        "**TRAIN TEST SPLIT**"
      ]
    },
    {
      "cell_type": "code",
      "metadata": {
        "id": "qb2ATCXSxfrI"
      },
      "source": [
        "from sklearn import model_selection"
      ],
      "execution_count": 46,
      "outputs": []
    },
    {
      "cell_type": "code",
      "metadata": {
        "id": "PwRMX6elyIN5"
      },
      "source": [
        "# separates target variable from the rest of the features \n",
        "X = df_model.drop('PerformanceScore' , axis = 1) \n",
        "Y = df_model['PerformanceScore']"
      ],
      "execution_count": 47,
      "outputs": []
    },
    {
      "cell_type": "code",
      "metadata": {
        "colab": {
          "base_uri": "https://localhost:8080/",
          "height": 437
        },
        "id": "xv_1CKCFyWrP",
        "outputId": "f2ae36b9-8154-44ca-8fd0-c28256b98292"
      },
      "source": [
        "X"
      ],
      "execution_count": 48,
      "outputs": [
        {
          "output_type": "execute_result",
          "data": {
            "text/html": [
              "<div>\n",
              "<style scoped>\n",
              "    .dataframe tbody tr th:only-of-type {\n",
              "        vertical-align: middle;\n",
              "    }\n",
              "\n",
              "    .dataframe tbody tr th {\n",
              "        vertical-align: top;\n",
              "    }\n",
              "\n",
              "    .dataframe thead th {\n",
              "        text-align: right;\n",
              "    }\n",
              "</style>\n",
              "<table border=\"1\" class=\"dataframe\">\n",
              "  <thead>\n",
              "    <tr style=\"text-align: right;\">\n",
              "      <th></th>\n",
              "      <th>MarriedID</th>\n",
              "      <th>MaritalStatusID</th>\n",
              "      <th>GenderID</th>\n",
              "      <th>EmpStatusID</th>\n",
              "      <th>DeptID</th>\n",
              "      <th>PerfScoreID</th>\n",
              "      <th>FromDiversityJobFairID</th>\n",
              "      <th>Salary</th>\n",
              "      <th>Termd</th>\n",
              "      <th>PositionID</th>\n",
              "      <th>Zip</th>\n",
              "      <th>Sex</th>\n",
              "      <th>MaritalDesc</th>\n",
              "      <th>CitizenDesc</th>\n",
              "      <th>HispanicLatino</th>\n",
              "      <th>RaceDesc</th>\n",
              "      <th>TermReason</th>\n",
              "      <th>EmploymentStatus</th>\n",
              "      <th>EngagementSurvey</th>\n",
              "      <th>EmpSatisfaction</th>\n",
              "      <th>SpecialProjectsCount</th>\n",
              "      <th>DaysLateLast30</th>\n",
              "      <th>Absences</th>\n",
              "    </tr>\n",
              "  </thead>\n",
              "  <tbody>\n",
              "    <tr>\n",
              "      <th>0</th>\n",
              "      <td>0</td>\n",
              "      <td>0.00</td>\n",
              "      <td>1</td>\n",
              "      <td>0.0</td>\n",
              "      <td>0.8</td>\n",
              "      <td>1.000000</td>\n",
              "      <td>0</td>\n",
              "      <td>0.085190</td>\n",
              "      <td>0</td>\n",
              "      <td>0.620690</td>\n",
              "      <td>0.009759</td>\n",
              "      <td>1</td>\n",
              "      <td>3</td>\n",
              "      <td>2</td>\n",
              "      <td>0</td>\n",
              "      <td>5</td>\n",
              "      <td>3</td>\n",
              "      <td>0</td>\n",
              "      <td>0.896907</td>\n",
              "      <td>1.00</td>\n",
              "      <td>0.000</td>\n",
              "      <td>0.000000</td>\n",
              "      <td>0.000000</td>\n",
              "    </tr>\n",
              "    <tr>\n",
              "      <th>1</th>\n",
              "      <td>1</td>\n",
              "      <td>0.25</td>\n",
              "      <td>1</td>\n",
              "      <td>1.0</td>\n",
              "      <td>0.4</td>\n",
              "      <td>0.666667</td>\n",
              "      <td>0</td>\n",
              "      <td>0.289777</td>\n",
              "      <td>1</td>\n",
              "      <td>0.896552</td>\n",
              "      <td>0.011696</td>\n",
              "      <td>1</td>\n",
              "      <td>1</td>\n",
              "      <td>2</td>\n",
              "      <td>0</td>\n",
              "      <td>5</td>\n",
              "      <td>5</td>\n",
              "      <td>2</td>\n",
              "      <td>0.989691</td>\n",
              "      <td>0.50</td>\n",
              "      <td>0.750</td>\n",
              "      <td>0.000000</td>\n",
              "      <td>0.842105</td>\n",
              "    </tr>\n",
              "    <tr>\n",
              "      <th>2</th>\n",
              "      <td>1</td>\n",
              "      <td>0.25</td>\n",
              "      <td>0</td>\n",
              "      <td>1.0</td>\n",
              "      <td>0.8</td>\n",
              "      <td>0.666667</td>\n",
              "      <td>0</td>\n",
              "      <td>0.097139</td>\n",
              "      <td>1</td>\n",
              "      <td>0.655172</td>\n",
              "      <td>0.008213</td>\n",
              "      <td>0</td>\n",
              "      <td>1</td>\n",
              "      <td>2</td>\n",
              "      <td>0</td>\n",
              "      <td>5</td>\n",
              "      <td>7</td>\n",
              "      <td>2</td>\n",
              "      <td>0.489691</td>\n",
              "      <td>0.50</td>\n",
              "      <td>0.000</td>\n",
              "      <td>0.000000</td>\n",
              "      <td>0.105263</td>\n",
              "    </tr>\n",
              "    <tr>\n",
              "      <th>3</th>\n",
              "      <td>1</td>\n",
              "      <td>0.25</td>\n",
              "      <td>0</td>\n",
              "      <td>0.0</td>\n",
              "      <td>0.8</td>\n",
              "      <td>0.666667</td>\n",
              "      <td>0</td>\n",
              "      <td>0.097315</td>\n",
              "      <td>0</td>\n",
              "      <td>0.620690</td>\n",
              "      <td>0.008996</td>\n",
              "      <td>0</td>\n",
              "      <td>1</td>\n",
              "      <td>2</td>\n",
              "      <td>0</td>\n",
              "      <td>5</td>\n",
              "      <td>3</td>\n",
              "      <td>0</td>\n",
              "      <td>0.958763</td>\n",
              "      <td>1.00</td>\n",
              "      <td>0.000</td>\n",
              "      <td>0.000000</td>\n",
              "      <td>0.736842</td>\n",
              "    </tr>\n",
              "    <tr>\n",
              "      <th>4</th>\n",
              "      <td>0</td>\n",
              "      <td>0.50</td>\n",
              "      <td>0</td>\n",
              "      <td>1.0</td>\n",
              "      <td>0.8</td>\n",
              "      <td>0.666667</td>\n",
              "      <td>0</td>\n",
              "      <td>0.028197</td>\n",
              "      <td>1</td>\n",
              "      <td>0.620690</td>\n",
              "      <td>0.011913</td>\n",
              "      <td>0</td>\n",
              "      <td>0</td>\n",
              "      <td>2</td>\n",
              "      <td>0</td>\n",
              "      <td>5</td>\n",
              "      <td>16</td>\n",
              "      <td>2</td>\n",
              "      <td>1.000000</td>\n",
              "      <td>0.75</td>\n",
              "      <td>0.000</td>\n",
              "      <td>0.000000</td>\n",
              "      <td>0.052632</td>\n",
              "    </tr>\n",
              "    <tr>\n",
              "      <th>...</th>\n",
              "      <td>...</td>\n",
              "      <td>...</td>\n",
              "      <td>...</td>\n",
              "      <td>...</td>\n",
              "      <td>...</td>\n",
              "      <td>...</td>\n",
              "      <td>...</td>\n",
              "      <td>...</td>\n",
              "      <td>...</td>\n",
              "      <td>...</td>\n",
              "      <td>...</td>\n",
              "      <td>...</td>\n",
              "      <td>...</td>\n",
              "      <td>...</td>\n",
              "      <td>...</td>\n",
              "      <td>...</td>\n",
              "      <td>...</td>\n",
              "      <td>...</td>\n",
              "      <td>...</td>\n",
              "      <td>...</td>\n",
              "      <td>...</td>\n",
              "      <td>...</td>\n",
              "      <td>...</td>\n",
              "    </tr>\n",
              "    <tr>\n",
              "      <th>306</th>\n",
              "      <td>0</td>\n",
              "      <td>0.00</td>\n",
              "      <td>1</td>\n",
              "      <td>0.0</td>\n",
              "      <td>0.8</td>\n",
              "      <td>0.666667</td>\n",
              "      <td>0</td>\n",
              "      <td>0.101716</td>\n",
              "      <td>0</td>\n",
              "      <td>0.655172</td>\n",
              "      <td>0.008213</td>\n",
              "      <td>1</td>\n",
              "      <td>3</td>\n",
              "      <td>2</td>\n",
              "      <td>0</td>\n",
              "      <td>5</td>\n",
              "      <td>3</td>\n",
              "      <td>0</td>\n",
              "      <td>0.760309</td>\n",
              "      <td>0.75</td>\n",
              "      <td>0.000</td>\n",
              "      <td>0.000000</td>\n",
              "      <td>0.631579</td>\n",
              "    </tr>\n",
              "    <tr>\n",
              "      <th>307</th>\n",
              "      <td>0</td>\n",
              "      <td>0.00</td>\n",
              "      <td>0</td>\n",
              "      <td>1.0</td>\n",
              "      <td>0.8</td>\n",
              "      <td>0.000000</td>\n",
              "      <td>0</td>\n",
              "      <td>0.016916</td>\n",
              "      <td>1</td>\n",
              "      <td>0.620690</td>\n",
              "      <td>0.014891</td>\n",
              "      <td>0</td>\n",
              "      <td>3</td>\n",
              "      <td>2</td>\n",
              "      <td>0</td>\n",
              "      <td>1</td>\n",
              "      <td>0</td>\n",
              "      <td>2</td>\n",
              "      <td>0.536082</td>\n",
              "      <td>0.25</td>\n",
              "      <td>0.000</td>\n",
              "      <td>0.833333</td>\n",
              "      <td>0.157895</td>\n",
              "    </tr>\n",
              "    <tr>\n",
              "      <th>308</th>\n",
              "      <td>0</td>\n",
              "      <td>0.00</td>\n",
              "      <td>0</td>\n",
              "      <td>0.0</td>\n",
              "      <td>0.4</td>\n",
              "      <td>1.000000</td>\n",
              "      <td>0</td>\n",
              "      <td>0.855821</td>\n",
              "      <td>0</td>\n",
              "      <td>0.172414</td>\n",
              "      <td>0.010862</td>\n",
              "      <td>0</td>\n",
              "      <td>3</td>\n",
              "      <td>2</td>\n",
              "      <td>0</td>\n",
              "      <td>5</td>\n",
              "      <td>3</td>\n",
              "      <td>0</td>\n",
              "      <td>0.896907</td>\n",
              "      <td>1.00</td>\n",
              "      <td>0.750</td>\n",
              "      <td>0.000000</td>\n",
              "      <td>0.789474</td>\n",
              "    </tr>\n",
              "    <tr>\n",
              "      <th>309</th>\n",
              "      <td>0</td>\n",
              "      <td>0.00</td>\n",
              "      <td>0</td>\n",
              "      <td>0.0</td>\n",
              "      <td>0.4</td>\n",
              "      <td>0.666667</td>\n",
              "      <td>0</td>\n",
              "      <td>0.215883</td>\n",
              "      <td>0</td>\n",
              "      <td>0.275862</td>\n",
              "      <td>0.011696</td>\n",
              "      <td>0</td>\n",
              "      <td>3</td>\n",
              "      <td>2</td>\n",
              "      <td>0</td>\n",
              "      <td>5</td>\n",
              "      <td>3</td>\n",
              "      <td>0</td>\n",
              "      <td>1.000000</td>\n",
              "      <td>0.50</td>\n",
              "      <td>0.625</td>\n",
              "      <td>0.000000</td>\n",
              "      <td>0.526316</td>\n",
              "    </tr>\n",
              "    <tr>\n",
              "      <th>310</th>\n",
              "      <td>0</td>\n",
              "      <td>1.00</td>\n",
              "      <td>0</td>\n",
              "      <td>0.0</td>\n",
              "      <td>0.8</td>\n",
              "      <td>0.666667</td>\n",
              "      <td>0</td>\n",
              "      <td>0.000000</td>\n",
              "      <td>0</td>\n",
              "      <td>0.620690</td>\n",
              "      <td>0.007389</td>\n",
              "      <td>0</td>\n",
              "      <td>4</td>\n",
              "      <td>2</td>\n",
              "      <td>0</td>\n",
              "      <td>1</td>\n",
              "      <td>3</td>\n",
              "      <td>0</td>\n",
              "      <td>0.871134</td>\n",
              "      <td>1.00</td>\n",
              "      <td>0.000</td>\n",
              "      <td>0.000000</td>\n",
              "      <td>0.052632</td>\n",
              "    </tr>\n",
              "  </tbody>\n",
              "</table>\n",
              "<p>311 rows × 23 columns</p>\n",
              "</div>"
            ],
            "text/plain": [
              "     MarriedID  MaritalStatusID  ...  DaysLateLast30  Absences\n",
              "0            0             0.00  ...        0.000000  0.000000\n",
              "1            1             0.25  ...        0.000000  0.842105\n",
              "2            1             0.25  ...        0.000000  0.105263\n",
              "3            1             0.25  ...        0.000000  0.736842\n",
              "4            0             0.50  ...        0.000000  0.052632\n",
              "..         ...              ...  ...             ...       ...\n",
              "306          0             0.00  ...        0.000000  0.631579\n",
              "307          0             0.00  ...        0.833333  0.157895\n",
              "308          0             0.00  ...        0.000000  0.789474\n",
              "309          0             0.00  ...        0.000000  0.526316\n",
              "310          0             1.00  ...        0.000000  0.052632\n",
              "\n",
              "[311 rows x 23 columns]"
            ]
          },
          "metadata": {},
          "execution_count": 48
        }
      ]
    },
    {
      "cell_type": "code",
      "metadata": {
        "colab": {
          "base_uri": "https://localhost:8080/"
        },
        "id": "zCFYLkuCy0tt",
        "outputId": "03332672-5124-429d-86cb-327e06277411"
      },
      "source": [
        "Y"
      ],
      "execution_count": 49,
      "outputs": [
        {
          "output_type": "execute_result",
          "data": {
            "text/plain": [
              "0      0\n",
              "1      1\n",
              "2      1\n",
              "3      1\n",
              "4      1\n",
              "      ..\n",
              "306    1\n",
              "307    3\n",
              "308    0\n",
              "309    1\n",
              "310    1\n",
              "Name: PerformanceScore, Length: 311, dtype: int64"
            ]
          },
          "metadata": {},
          "execution_count": 49
        }
      ]
    },
    {
      "cell_type": "code",
      "metadata": {
        "id": "ygIZTqeEy3GS"
      },
      "source": [
        "# For training the model we divide the data into training data and testing data\n",
        "# for that we use train_test_split function\n",
        "\n",
        "X_train, X_test, Y_train, Y_test = model_selection.train_test_split(X, Y, test_size = 0.3, random_state = 0, stratify=Y )"
      ],
      "execution_count": 50,
      "outputs": []
    },
    {
      "cell_type": "code",
      "metadata": {
        "colab": {
          "base_uri": "https://localhost:8080/"
        },
        "id": "TcbSMjCMy9Kx",
        "outputId": "6522f87c-96a7-4bf3-cacb-d5d23ce57485"
      },
      "source": [
        "X_train.shape"
      ],
      "execution_count": 51,
      "outputs": [
        {
          "output_type": "execute_result",
          "data": {
            "text/plain": [
              "(217, 23)"
            ]
          },
          "metadata": {},
          "execution_count": 51
        }
      ]
    },
    {
      "cell_type": "code",
      "metadata": {
        "colab": {
          "base_uri": "https://localhost:8080/"
        },
        "id": "ThhHnv19zDVO",
        "outputId": "d1fe6b60-8fd0-42a1-94e2-d893df1dadcf"
      },
      "source": [
        "Y_train.shape"
      ],
      "execution_count": 52,
      "outputs": [
        {
          "output_type": "execute_result",
          "data": {
            "text/plain": [
              "(217,)"
            ]
          },
          "metadata": {},
          "execution_count": 52
        }
      ]
    },
    {
      "cell_type": "code",
      "metadata": {
        "colab": {
          "base_uri": "https://localhost:8080/"
        },
        "id": "L0iU_EpTzHj3",
        "outputId": "a0848907-7004-438c-d110-46d32bb5083d"
      },
      "source": [
        "X_test.shape"
      ],
      "execution_count": 53,
      "outputs": [
        {
          "output_type": "execute_result",
          "data": {
            "text/plain": [
              "(94, 23)"
            ]
          },
          "metadata": {},
          "execution_count": 53
        }
      ]
    },
    {
      "cell_type": "code",
      "metadata": {
        "colab": {
          "base_uri": "https://localhost:8080/"
        },
        "id": "m5B75IMkzLiB",
        "outputId": "5a9c6992-cb47-4a1f-e905-32d446634f3c"
      },
      "source": [
        "Y_test.shape"
      ],
      "execution_count": 54,
      "outputs": [
        {
          "output_type": "execute_result",
          "data": {
            "text/plain": [
              "(94,)"
            ]
          },
          "metadata": {},
          "execution_count": 54
        }
      ]
    },
    {
      "cell_type": "markdown",
      "metadata": {
        "id": "XF5g2eyX6A4u"
      },
      "source": [
        "**Feature scaling**"
      ]
    },
    {
      "cell_type": "code",
      "metadata": {
        "id": "xb8QK_ii6E3_"
      },
      "source": [
        "from sklearn.preprocessing import StandardScaler\n",
        "sc = StandardScaler()\n",
        "X_train = sc.fit_transform(X_train)\n",
        "X_test = sc.transform(X_test)"
      ],
      "execution_count": 55,
      "outputs": []
    },
    {
      "cell_type": "markdown",
      "metadata": {
        "id": "MAELe01_zU6O"
      },
      "source": [
        "**USING THE LINEAR REGRESSION TO TRAIN THE MODEL**"
      ]
    },
    {
      "cell_type": "code",
      "metadata": {
        "id": "RXe8AaCezb35"
      },
      "source": [
        "from sklearn.linear_model import LinearRegression\n",
        "from sklearn.preprocessing import PolynomialFeatures"
      ],
      "execution_count": 56,
      "outputs": []
    },
    {
      "cell_type": "code",
      "metadata": {
        "id": "DxdNUPnyzoJo"
      },
      "source": [
        "df_model_regression = LinearRegression(fit_intercept = True).fit(X_train, Y_train)"
      ],
      "execution_count": 57,
      "outputs": []
    },
    {
      "cell_type": "code",
      "metadata": {
        "colab": {
          "base_uri": "https://localhost:8080/"
        },
        "id": "9_1mbM-S95sU",
        "outputId": "7141a81d-0cb8-4eb5-de94-e7a0a49a4a8d"
      },
      "source": [
        "df_model_regression.coef_"
      ],
      "execution_count": 58,
      "outputs": [
        {
          "output_type": "execute_result",
          "data": {
            "text/plain": [
              "array([ 1.66902404e-02,  7.50449402e-03,  3.54431332e-03, -1.71028711e-01,\n",
              "        1.33136169e-02, -5.47293085e-01,  1.88991253e-03, -4.84253710e-03,\n",
              "        1.83516586e-01, -2.04967494e-02, -1.49861040e-02,  3.54431332e-03,\n",
              "       -5.85545350e-04,  4.99270623e-03, -8.02452234e-04, -1.22113159e-03,\n",
              "       -1.42260322e-02, -8.50210103e-05, -2.09664762e-02,  1.72402835e-02,\n",
              "        1.57876604e-03,  1.93518852e-02, -1.41651467e-02])"
            ]
          },
          "metadata": {},
          "execution_count": 58
        }
      ]
    },
    {
      "cell_type": "code",
      "metadata": {
        "colab": {
          "base_uri": "https://localhost:8080/"
        },
        "id": "YzJqw2dH0EMy",
        "outputId": "ed7d25a5-6dda-495e-bba7-579646daea84"
      },
      "source": [
        "# for training dataset\n",
        "print(\"Score of the training dataset is ----->\",df_model_regression.score(X_train, Y_train))"
      ],
      "execution_count": 59,
      "outputs": [
        {
          "output_type": "stream",
          "name": "stdout",
          "text": [
            "Score of the training dataset is -----> 0.9639817018710427\n"
          ]
        }
      ]
    },
    {
      "cell_type": "code",
      "metadata": {
        "colab": {
          "base_uri": "https://localhost:8080/"
        },
        "id": "gZQGgI4N0hdL",
        "outputId": "f27752bc-3641-4487-f6bf-10e62eb00c12"
      },
      "source": [
        "# for testing dataset\n",
        "print(\"Score of the testing dataset is ----->\",df_model_regression.score(X_test, Y_test))"
      ],
      "execution_count": 60,
      "outputs": [
        {
          "output_type": "stream",
          "name": "stdout",
          "text": [
            "Score of the testing dataset is -----> 0.854992242934876\n"
          ]
        }
      ]
    },
    {
      "cell_type": "code",
      "metadata": {
        "id": "MVAy6M3n36AC"
      },
      "source": [
        "from sklearn.ensemble import RandomForestRegressor\n",
        "from sklearn.linear_model import LinearRegression"
      ],
      "execution_count": 66,
      "outputs": []
    },
    {
      "cell_type": "code",
      "metadata": {
        "id": "HDBxEMla4ufX"
      },
      "source": [
        "model_1 = LinearRegression()\n",
        "model_2 = RandomForestRegressor()"
      ],
      "execution_count": 65,
      "outputs": []
    },
    {
      "cell_type": "code",
      "metadata": {
        "colab": {
          "base_uri": "https://localhost:8080/"
        },
        "id": "m94QHoEh41tK",
        "outputId": "cfaab2a0-c12c-4aa6-cfec-e527e5939237"
      },
      "source": [
        "model_1.fit(X_train, Y_train)\n",
        "model_2.fit(X_train, Y_train)"
      ],
      "execution_count": 67,
      "outputs": [
        {
          "output_type": "execute_result",
          "data": {
            "text/plain": [
              "RandomForestRegressor(bootstrap=True, ccp_alpha=0.0, criterion='mse',\n",
              "                      max_depth=None, max_features='auto', max_leaf_nodes=None,\n",
              "                      max_samples=None, min_impurity_decrease=0.0,\n",
              "                      min_impurity_split=None, min_samples_leaf=1,\n",
              "                      min_samples_split=2, min_weight_fraction_leaf=0.0,\n",
              "                      n_estimators=100, n_jobs=None, oob_score=False,\n",
              "                      random_state=None, verbose=0, warm_start=False)"
            ]
          },
          "metadata": {},
          "execution_count": 67
        }
      ]
    },
    {
      "cell_type": "code",
      "metadata": {
        "id": "IN7bABY85KEY"
      },
      "source": [
        "pred_1 = model_1.predict(X_test)\n",
        "pred_2 = model_2.predict(X_test)"
      ],
      "execution_count": 68,
      "outputs": []
    },
    {
      "cell_type": "code",
      "metadata": {
        "id": "mmqEsa-05XNf"
      },
      "source": [
        "pred_final = (pred_1+pred_2)/2.0"
      ],
      "execution_count": 69,
      "outputs": []
    },
    {
      "cell_type": "code",
      "metadata": {
        "id": "SRgrctLb5a6H"
      },
      "source": [
        "from sklearn.metrics import mean_squared_error, accuracy_score"
      ],
      "execution_count": 73,
      "outputs": []
    },
    {
      "cell_type": "code",
      "metadata": {
        "colab": {
          "base_uri": "https://localhost:8080/"
        },
        "id": "_BzmxhQy5hiC",
        "outputId": "f4f65b86-d2c9-4373-d269-0ca9f8ba6e8a"
      },
      "source": [
        "print(mean_squared_error(Y_test, pred_final))"
      ],
      "execution_count": 71,
      "outputs": [
        {
          "output_type": "stream",
          "name": "stdout",
          "text": [
            "0.04088476927290222\n"
          ]
        }
      ]
    },
    {
      "cell_type": "markdown",
      "metadata": {
        "id": "Aw1x5vM42QG2"
      },
      "source": [
        " **MAKING THE CONFUSION MATRIX**"
      ]
    },
    {
      "cell_type": "code",
      "metadata": {
        "id": "Yz--Gv8g2Vaa"
      },
      "source": [
        "from sklearn.metrics import confusion_matrix, accuracy_score"
      ],
      "execution_count": 75,
      "outputs": []
    },
    {
      "cell_type": "markdown",
      "metadata": {
        "id": "O3FcmOIaJ29F"
      },
      "source": [
        "# **DEEP LEARNING MODEL**"
      ]
    },
    {
      "cell_type": "markdown",
      "metadata": {
        "id": "3BpFmtK5KBTq"
      },
      "source": [
        "**ARTIFICIAL NEURAL NETWORK**"
      ]
    },
    {
      "cell_type": "code",
      "metadata": {
        "id": "HayUBci8KH2I"
      },
      "source": [
        "import keras\n",
        "from tensorflow.keras.models import Sequential\n",
        "from tensorflow.keras.layers import Dense"
      ],
      "execution_count": 76,
      "outputs": []
    },
    {
      "cell_type": "code",
      "metadata": {
        "id": "ZZSnGPlPKqVX"
      },
      "source": [
        "df_model_dense = Sequential()"
      ],
      "execution_count": 77,
      "outputs": []
    },
    {
      "cell_type": "code",
      "metadata": {
        "id": "mQDwtohmK79K"
      },
      "source": [
        "df_model_dense.add(Dense(units = 12, kernel_initializer= 'uniform', activation = 'relu', input_dim = 23))"
      ],
      "execution_count": 78,
      "outputs": []
    },
    {
      "cell_type": "code",
      "metadata": {
        "id": "CD1sV5IPNBge"
      },
      "source": [
        "df_model_dense.add(Dense(units = 12, kernel_initializer= 'uniform', activation = 'relu'))\n",
        "df_model_dense.add(Dense(units = 12, kernel_initializer= 'uniform', activation = 'relu'))\n",
        "df_model_dense.add(Dense(units = 12, kernel_initializer= 'uniform', activation = 'relu'))\n",
        "df_model_dense.add(Dense(units = 12, kernel_initializer= 'uniform', activation = 'relu'))\n",
        "df_model_dense.add(Dense(units = 12, kernel_initializer= 'uniform', activation = 'relu'))\n",
        "df_model_dense.add(Dense(units = 12, kernel_initializer= 'uniform', activation = 'relu'))\n",
        "df_model_dense.add(Dense(units = 12, kernel_initializer= 'uniform', activation = 'relu'))\n",
        "df_model_dense.add(Dense(units = 12, kernel_initializer= 'uniform', activation = 'relu'))\n",
        "df_model_dense.add(Dense(units = 12, kernel_initializer= 'uniform', activation = 'relu'))"
      ],
      "execution_count": 79,
      "outputs": []
    },
    {
      "cell_type": "code",
      "metadata": {
        "id": "ydSChd1tNKhP"
      },
      "source": [
        "df_model_dense.add(Dense(units = 1, kernel_initializer= 'uniform', activation = 'softmax'))"
      ],
      "execution_count": 80,
      "outputs": []
    },
    {
      "cell_type": "code",
      "metadata": {
        "id": "BomVqIvnNe4e"
      },
      "source": [
        "df_model_dense.compile(optimizer = 'adam', loss = \"MSE\", metrics = ['accuracy'])"
      ],
      "execution_count": 81,
      "outputs": []
    },
    {
      "cell_type": "code",
      "metadata": {
        "colab": {
          "base_uri": "https://localhost:8080/"
        },
        "id": "qOXXUfbxOjGG",
        "outputId": "129d58ed-2b42-4a65-bbd2-098adebae9e5"
      },
      "source": [
        "print(\"For Training ----------------------------->\")\n",
        "df_model_dense.fit(X_train, Y_train, batch_size = 5, epochs = 20)"
      ],
      "execution_count": 82,
      "outputs": [
        {
          "output_type": "stream",
          "name": "stdout",
          "text": [
            "For Training ----------------------------->\n",
            "Epoch 1/20\n",
            "44/44 [==============================] - 1s 2ms/step - loss: 0.3456 - accuracy: 0.7788\n",
            "Epoch 2/20\n",
            "44/44 [==============================] - 0s 2ms/step - loss: 0.3456 - accuracy: 0.7788\n",
            "Epoch 3/20\n",
            "44/44 [==============================] - 0s 2ms/step - loss: 0.3456 - accuracy: 0.7788\n",
            "Epoch 4/20\n",
            "44/44 [==============================] - 0s 3ms/step - loss: 0.3456 - accuracy: 0.7788\n",
            "Epoch 5/20\n",
            "44/44 [==============================] - 0s 3ms/step - loss: 0.3456 - accuracy: 0.7788\n",
            "Epoch 6/20\n",
            "44/44 [==============================] - 0s 2ms/step - loss: 0.3456 - accuracy: 0.7788\n",
            "Epoch 7/20\n",
            "44/44 [==============================] - 0s 2ms/step - loss: 0.3456 - accuracy: 0.7788\n",
            "Epoch 8/20\n",
            "44/44 [==============================] - 0s 2ms/step - loss: 0.3456 - accuracy: 0.7788\n",
            "Epoch 9/20\n",
            "44/44 [==============================] - 0s 2ms/step - loss: 0.3456 - accuracy: 0.7788\n",
            "Epoch 10/20\n",
            "44/44 [==============================] - 0s 2ms/step - loss: 0.3456 - accuracy: 0.7788\n",
            "Epoch 11/20\n",
            "44/44 [==============================] - 0s 2ms/step - loss: 0.3456 - accuracy: 0.7788\n",
            "Epoch 12/20\n",
            "44/44 [==============================] - 0s 2ms/step - loss: 0.3456 - accuracy: 0.7788\n",
            "Epoch 13/20\n",
            "44/44 [==============================] - 0s 2ms/step - loss: 0.3456 - accuracy: 0.7788\n",
            "Epoch 14/20\n",
            "44/44 [==============================] - 0s 2ms/step - loss: 0.3456 - accuracy: 0.7788\n",
            "Epoch 15/20\n",
            "44/44 [==============================] - 0s 3ms/step - loss: 0.3456 - accuracy: 0.7788\n",
            "Epoch 16/20\n",
            "44/44 [==============================] - 0s 2ms/step - loss: 0.3456 - accuracy: 0.7788\n",
            "Epoch 17/20\n",
            "44/44 [==============================] - 0s 2ms/step - loss: 0.3456 - accuracy: 0.7788\n",
            "Epoch 18/20\n",
            "44/44 [==============================] - 0s 2ms/step - loss: 0.3456 - accuracy: 0.7788\n",
            "Epoch 19/20\n",
            "44/44 [==============================] - 0s 2ms/step - loss: 0.3456 - accuracy: 0.7788\n",
            "Epoch 20/20\n",
            "44/44 [==============================] - 0s 2ms/step - loss: 0.3456 - accuracy: 0.7788\n"
          ]
        },
        {
          "output_type": "execute_result",
          "data": {
            "text/plain": [
              "<keras.callbacks.History at 0x7f233bf7ac10>"
            ]
          },
          "metadata": {},
          "execution_count": 82
        }
      ]
    },
    {
      "cell_type": "code",
      "metadata": {
        "colab": {
          "base_uri": "https://localhost:8080/"
        },
        "id": "DzpC-7hbRnyd",
        "outputId": "dbf9d199-6d74-4a4c-da5c-6f863922f4d9"
      },
      "source": [
        "print(\"For Testing ----------------------------->\")\n",
        "df_model_dense.fit(X_test, Y_test, batch_size = 5, epochs = 20)"
      ],
      "execution_count": 83,
      "outputs": [
        {
          "output_type": "stream",
          "name": "stdout",
          "text": [
            "For Testing ----------------------------->\n",
            "Epoch 1/20\n",
            "19/19 [==============================] - 0s 2ms/step - loss: 0.3404 - accuracy: 0.7872\n",
            "Epoch 2/20\n",
            "19/19 [==============================] - 0s 2ms/step - loss: 0.3404 - accuracy: 0.7872\n",
            "Epoch 3/20\n",
            "19/19 [==============================] - 0s 2ms/step - loss: 0.3404 - accuracy: 0.7872\n",
            "Epoch 4/20\n",
            "19/19 [==============================] - 0s 2ms/step - loss: 0.3404 - accuracy: 0.7872\n",
            "Epoch 5/20\n",
            "19/19 [==============================] - 0s 2ms/step - loss: 0.3404 - accuracy: 0.7872\n",
            "Epoch 6/20\n",
            "19/19 [==============================] - 0s 2ms/step - loss: 0.3404 - accuracy: 0.7872\n",
            "Epoch 7/20\n",
            "19/19 [==============================] - 0s 3ms/step - loss: 0.3404 - accuracy: 0.7872\n",
            "Epoch 8/20\n",
            "19/19 [==============================] - 0s 4ms/step - loss: 0.3404 - accuracy: 0.7872\n",
            "Epoch 9/20\n",
            "19/19 [==============================] - 0s 2ms/step - loss: 0.3404 - accuracy: 0.7872\n",
            "Epoch 10/20\n",
            "19/19 [==============================] - 0s 2ms/step - loss: 0.3404 - accuracy: 0.7872\n",
            "Epoch 11/20\n",
            "19/19 [==============================] - 0s 2ms/step - loss: 0.3404 - accuracy: 0.7872\n",
            "Epoch 12/20\n",
            "19/19 [==============================] - 0s 2ms/step - loss: 0.3404 - accuracy: 0.7872\n",
            "Epoch 13/20\n",
            "19/19 [==============================] - 0s 2ms/step - loss: 0.3404 - accuracy: 0.7872\n",
            "Epoch 14/20\n",
            "19/19 [==============================] - 0s 2ms/step - loss: 0.3404 - accuracy: 0.7872\n",
            "Epoch 15/20\n",
            "19/19 [==============================] - 0s 2ms/step - loss: 0.3404 - accuracy: 0.7872\n",
            "Epoch 16/20\n",
            "19/19 [==============================] - 0s 2ms/step - loss: 0.3404 - accuracy: 0.7872\n",
            "Epoch 17/20\n",
            "19/19 [==============================] - 0s 2ms/step - loss: 0.3404 - accuracy: 0.7872\n",
            "Epoch 18/20\n",
            "19/19 [==============================] - 0s 2ms/step - loss: 0.3404 - accuracy: 0.7872\n",
            "Epoch 19/20\n",
            "19/19 [==============================] - 0s 2ms/step - loss: 0.3404 - accuracy: 0.7872\n",
            "Epoch 20/20\n",
            "19/19 [==============================] - 0s 2ms/step - loss: 0.3404 - accuracy: 0.7872\n"
          ]
        },
        {
          "output_type": "execute_result",
          "data": {
            "text/plain": [
              "<keras.callbacks.History at 0x7f233a42ca50>"
            ]
          },
          "metadata": {},
          "execution_count": 83
        }
      ]
    },
    {
      "cell_type": "code",
      "metadata": {
        "id": "qTRhzUMbPfOE"
      },
      "source": [
        "Y_pred = df_model_dense.predict(X_test)"
      ],
      "execution_count": 84,
      "outputs": []
    },
    {
      "cell_type": "code",
      "metadata": {
        "id": "xfaE9nVPPzlM"
      },
      "source": [
        "print(Y_pred)"
      ],
      "execution_count": null,
      "outputs": []
    },
    {
      "cell_type": "code",
      "metadata": {
        "colab": {
          "base_uri": "https://localhost:8080/"
        },
        "id": "B0N3o7wUQlK8",
        "outputId": "774f8ff4-cdf0-4ac9-e24a-72595c1b0327"
      },
      "source": [
        "df_model_dense_confuse = confusion_matrix(Y_test,Y_pred)\n",
        "print(df_model_dense_confuse)\n",
        "accuracy_score(Y_test,Y_pred)"
      ],
      "execution_count": 86,
      "outputs": [
        {
          "output_type": "stream",
          "name": "stdout",
          "text": [
            "[[ 0 11  0  0]\n",
            " [ 0 74  0  0]\n",
            " [ 0  5  0  0]\n",
            " [ 0  4  0  0]]\n"
          ]
        },
        {
          "output_type": "execute_result",
          "data": {
            "text/plain": [
              "0.7872340425531915"
            ]
          },
          "metadata": {},
          "execution_count": 86
        }
      ]
    }
  ]
}